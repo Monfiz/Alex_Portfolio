{
 "cells": [
  {
   "cell_type": "markdown",
   "id": "61a48ec5",
   "metadata": {},
   "source": [
    "# Lectura de los datos limpios"
   ]
  },
  {
   "cell_type": "code",
   "execution_count": 13,
   "id": "ba6ad4b4",
   "metadata": {},
   "outputs": [],
   "source": [
    "# Importar librerías\n",
    "import pandas\n",
    "import numpy as np\n",
    "import matplotlib.pyplot as plt\n",
    "from sklearn.preprocessing import PolynomialFeatures"
   ]
  },
  {
   "cell_type": "code",
   "execution_count": 14,
   "id": "8f5b4822",
   "metadata": {},
   "outputs": [],
   "source": [
    "data = pandas.read_csv(\"./IMDb_Limpio.csv\")"
   ]
  },
  {
   "cell_type": "code",
   "execution_count": 15,
   "id": "4fa4fa38",
   "metadata": {},
   "outputs": [
    {
     "name": "stdout",
     "output_type": "stream",
     "text": [
      "<class 'pandas.core.frame.DataFrame'>\n",
      "RangeIndex: 6616 entries, 0 to 6615\n",
      "Columns: 928 entries, Unnamed: 0 to dia_semana_6\n",
      "dtypes: bool(486), float64(8), int64(425), object(9)\n",
      "memory usage: 25.4+ MB\n"
     ]
    }
   ],
   "source": [
    "data.info()"
   ]
  },
  {
   "cell_type": "code",
   "execution_count": 16,
   "id": "11b68f1e",
   "metadata": {},
   "outputs": [
    {
     "data": {
      "text/html": [
       "<div>\n",
       "<style scoped>\n",
       "    .dataframe tbody tr th:only-of-type {\n",
       "        vertical-align: middle;\n",
       "    }\n",
       "\n",
       "    .dataframe tbody tr th {\n",
       "        vertical-align: top;\n",
       "    }\n",
       "\n",
       "    .dataframe thead th {\n",
       "        text-align: right;\n",
       "    }\n",
       "</style>\n",
       "<table border=\"1\" class=\"dataframe\">\n",
       "  <thead>\n",
       "    <tr style=\"text-align: right;\">\n",
       "      <th></th>\n",
       "      <th>Unnamed: 0</th>\n",
       "      <th>imdb_title_id</th>\n",
       "      <th>title</th>\n",
       "      <th>original_title</th>\n",
       "      <th>year</th>\n",
       "      <th>date_published</th>\n",
       "      <th>genre</th>\n",
       "      <th>duration</th>\n",
       "      <th>country</th>\n",
       "      <th>language</th>\n",
       "      <th>...</th>\n",
       "      <th>mes_10</th>\n",
       "      <th>mes_11</th>\n",
       "      <th>mes_12</th>\n",
       "      <th>dia_semana_0</th>\n",
       "      <th>dia_semana_1</th>\n",
       "      <th>dia_semana_2</th>\n",
       "      <th>dia_semana_3</th>\n",
       "      <th>dia_semana_4</th>\n",
       "      <th>dia_semana_5</th>\n",
       "      <th>dia_semana_6</th>\n",
       "    </tr>\n",
       "  </thead>\n",
       "  <tbody>\n",
       "    <tr>\n",
       "      <th>0</th>\n",
       "      <td>506</td>\n",
       "      <td>tt0017136</td>\n",
       "      <td>Metropolis</td>\n",
       "      <td>Metropolis</td>\n",
       "      <td>0</td>\n",
       "      <td>1928-10-01</td>\n",
       "      <td>Drama, Sci-Fi</td>\n",
       "      <td>153</td>\n",
       "      <td>Germany</td>\n",
       "      <td>German</td>\n",
       "      <td>...</td>\n",
       "      <td>1</td>\n",
       "      <td>0</td>\n",
       "      <td>0</td>\n",
       "      <td>1</td>\n",
       "      <td>0</td>\n",
       "      <td>0</td>\n",
       "      <td>0</td>\n",
       "      <td>0</td>\n",
       "      <td>0</td>\n",
       "      <td>0</td>\n",
       "    </tr>\n",
       "    <tr>\n",
       "      <th>1</th>\n",
       "      <td>1048</td>\n",
       "      <td>tt0021749</td>\n",
       "      <td>Luci della città</td>\n",
       "      <td>City Lights</td>\n",
       "      <td>1</td>\n",
       "      <td>1931-04-02</td>\n",
       "      <td>Comedy, Drama, Romance</td>\n",
       "      <td>87</td>\n",
       "      <td>USA</td>\n",
       "      <td>English</td>\n",
       "      <td>...</td>\n",
       "      <td>0</td>\n",
       "      <td>0</td>\n",
       "      <td>0</td>\n",
       "      <td>0</td>\n",
       "      <td>0</td>\n",
       "      <td>0</td>\n",
       "      <td>1</td>\n",
       "      <td>0</td>\n",
       "      <td>0</td>\n",
       "      <td>0</td>\n",
       "    </tr>\n",
       "    <tr>\n",
       "      <th>2</th>\n",
       "      <td>2454</td>\n",
       "      <td>tt0027977</td>\n",
       "      <td>Tempi moderni</td>\n",
       "      <td>Modern Times</td>\n",
       "      <td>2</td>\n",
       "      <td>1937-03-12</td>\n",
       "      <td>Comedy, Drama, Family</td>\n",
       "      <td>87</td>\n",
       "      <td>USA</td>\n",
       "      <td>English</td>\n",
       "      <td>...</td>\n",
       "      <td>0</td>\n",
       "      <td>0</td>\n",
       "      <td>0</td>\n",
       "      <td>0</td>\n",
       "      <td>0</td>\n",
       "      <td>0</td>\n",
       "      <td>0</td>\n",
       "      <td>1</td>\n",
       "      <td>0</td>\n",
       "      <td>0</td>\n",
       "    </tr>\n",
       "    <tr>\n",
       "      <th>3</th>\n",
       "      <td>2795</td>\n",
       "      <td>tt0029453</td>\n",
       "      <td>Il bandito della Casbah</td>\n",
       "      <td>Pépé le Moko</td>\n",
       "      <td>3</td>\n",
       "      <td>1937-10-22</td>\n",
       "      <td>Crime, Drama, Romance</td>\n",
       "      <td>94</td>\n",
       "      <td>France</td>\n",
       "      <td>French, Arabic</td>\n",
       "      <td>...</td>\n",
       "      <td>1</td>\n",
       "      <td>0</td>\n",
       "      <td>0</td>\n",
       "      <td>0</td>\n",
       "      <td>0</td>\n",
       "      <td>0</td>\n",
       "      <td>0</td>\n",
       "      <td>1</td>\n",
       "      <td>0</td>\n",
       "      <td>0</td>\n",
       "    </tr>\n",
       "    <tr>\n",
       "      <th>4</th>\n",
       "      <td>2827</td>\n",
       "      <td>tt0029583</td>\n",
       "      <td>Biancaneve e i sette nani</td>\n",
       "      <td>Snow White and the Seven Dwarfs</td>\n",
       "      <td>3</td>\n",
       "      <td>1938-11-30</td>\n",
       "      <td>Animation, Family, Fantasy</td>\n",
       "      <td>83</td>\n",
       "      <td>USA</td>\n",
       "      <td>English</td>\n",
       "      <td>...</td>\n",
       "      <td>0</td>\n",
       "      <td>1</td>\n",
       "      <td>0</td>\n",
       "      <td>0</td>\n",
       "      <td>0</td>\n",
       "      <td>1</td>\n",
       "      <td>0</td>\n",
       "      <td>0</td>\n",
       "      <td>0</td>\n",
       "      <td>0</td>\n",
       "    </tr>\n",
       "  </tbody>\n",
       "</table>\n",
       "<p>5 rows × 928 columns</p>\n",
       "</div>"
      ],
      "text/plain": [
       "   Unnamed: 0 imdb_title_id                      title  \\\n",
       "0         506     tt0017136                 Metropolis   \n",
       "1        1048     tt0021749           Luci della città   \n",
       "2        2454     tt0027977              Tempi moderni   \n",
       "3        2795     tt0029453    Il bandito della Casbah   \n",
       "4        2827     tt0029583  Biancaneve e i sette nani   \n",
       "\n",
       "                    original_title  year date_published  \\\n",
       "0                       Metropolis     0     1928-10-01   \n",
       "1                      City Lights     1     1931-04-02   \n",
       "2                     Modern Times     2     1937-03-12   \n",
       "3                     Pépé le Moko     3     1937-10-22   \n",
       "4  Snow White and the Seven Dwarfs     3     1938-11-30   \n",
       "\n",
       "                        genre  duration  country        language  ... mes_10  \\\n",
       "0               Drama, Sci-Fi       153  Germany          German  ...      1   \n",
       "1      Comedy, Drama, Romance        87      USA         English  ...      0   \n",
       "2       Comedy, Drama, Family        87      USA         English  ...      0   \n",
       "3       Crime, Drama, Romance        94   France  French, Arabic  ...      1   \n",
       "4  Animation, Family, Fantasy        83      USA         English  ...      0   \n",
       "\n",
       "  mes_11  mes_12  dia_semana_0  dia_semana_1  dia_semana_2  dia_semana_3  \\\n",
       "0      0       0             1             0             0             0   \n",
       "1      0       0             0             0             0             1   \n",
       "2      0       0             0             0             0             0   \n",
       "3      0       0             0             0             0             0   \n",
       "4      1       0             0             0             1             0   \n",
       "\n",
       "   dia_semana_4  dia_semana_5  dia_semana_6  \n",
       "0             0             0             0  \n",
       "1             0             0             0  \n",
       "2             1             0             0  \n",
       "3             1             0             0  \n",
       "4             0             0             0  \n",
       "\n",
       "[5 rows x 928 columns]"
      ]
     },
     "execution_count": 16,
     "metadata": {},
     "output_type": "execute_result"
    }
   ],
   "source": [
    "data.head()"
   ]
  },
  {
   "cell_type": "markdown",
   "id": "88352159",
   "metadata": {},
   "source": [
    "# Variables que se usan para el split de los datos"
   ]
  },
  {
   "cell_type": "code",
   "execution_count": 17,
   "id": "e994a3ab",
   "metadata": {},
   "outputs": [],
   "source": [
    "# Limpieza de Género. Hace dummies para cada género distinto. \n",
    "generos = []\n",
    "for j in data['genre'].dropna().str.rsplit(', '):\n",
    "    for i in j:\n",
    "        if i not in generos:\n",
    "            generos.append(i)\n",
    "\n",
    "generos_names = [\"{}{}\".format(i,\"_Genre\") for i in generos]\n",
    "\n",
    "lenguaje = []\n",
    "for j in data['language'].dropna().str.rsplit(', '):\n",
    "    for i in j:\n",
    "        if i not in lenguaje:\n",
    "            lenguaje.append(i)\n",
    "\n",
    "lenguaje_names = [\"{}{}\".format(i,\"_Language\") for i in lenguaje]\n",
    "\n",
    "pais = []\n",
    "for j in data['country'].dropna().str.rsplit(', '):\n",
    "    for i in j:\n",
    "        if i not in pais:\n",
    "            pais.append(i)\n",
    "\n",
    "pais_names = [\"{}{}\".format(i,\"_Country\") for i in pais]"
   ]
  },
  {
   "cell_type": "code",
   "execution_count": 18,
   "id": "48140da1",
   "metadata": {},
   "outputs": [],
   "source": [
    "director_list = [s for s in list(data.columns) if \"director\" in s]\n",
    "writer_list = [s for s in list(data.columns) if \"writer\" in s]\n",
    "prodcomp_list = [s for s in list(data.columns) if \"production\" in s]\n",
    "mes_list = [s for s in list(data.columns) if \"mes\" in s]\n",
    "dia_semana_list = [s for s in list(data.columns) if \"dia_semana\" in s]"
   ]
  },
  {
   "cell_type": "markdown",
   "id": "59dca929",
   "metadata": {},
   "source": [
    "# Separacion en training, test y validación "
   ]
  },
  {
   "cell_type": "code",
   "execution_count": 19,
   "id": "7e503e66",
   "metadata": {},
   "outputs": [
    {
     "name": "stdout",
     "output_type": "stream",
     "text": [
      "(6616, 29)\n",
      "(6616,)\n"
     ]
    }
   ],
   "source": [
    "# Separa la base de datos, usa la variable \"quality\" como variable objetivo, y\n",
    "# todas las demás variables como variables explicativas\n",
    "X = data[[\"duration\", \"avg_vote\", \"votes\", \\\n",
    "          \"budget\",\"metascore\", \"reviews_from_users\",  \\\n",
    "          \"reviews_from_critics\"] + mes_list + dia_semana_list].to_numpy()\n",
    "X2 = data[generos_names + lenguaje_names + pais_names \\\n",
    "         + director_list + writer_list + prodcomp_list].to_numpy()\n",
    "Y = data[\"gross_income\"].to_numpy()\n",
    "\n",
    "print(X.shape)\n",
    "print(Y.shape)"
   ]
  },
  {
   "cell_type": "code",
   "execution_count": 20,
   "id": "1e42f753",
   "metadata": {},
   "outputs": [
    {
     "name": "stdout",
     "output_type": "stream",
     "text": [
      "(6616, 1128)\n",
      "(6616,)\n"
     ]
    }
   ],
   "source": [
    "X = PolynomialFeatures(2, interaction_only=True, include_bias=False).fit_transform(X)\n",
    "X = np.concatenate((X, X2), axis=1)\n",
    "print(X.shape)\n",
    "print(Y.shape)"
   ]
  },
  {
   "cell_type": "code",
   "execution_count": 21,
   "id": "88e9d3be",
   "metadata": {},
   "outputs": [
    {
     "name": "stdout",
     "output_type": "stream",
     "text": [
      "4762 training samples\n",
      "530 validation samples\n",
      "1324 test samples\n"
     ]
    }
   ],
   "source": [
    "# Separamos en training, validación y testing\n",
    "from sklearn.model_selection import train_test_split\n",
    "\n",
    "x_train, x_test, y_train, y_test = train_test_split(X, Y, test_size=0.2, random_state=42)\n",
    "x_train, x_val, y_train, y_val = train_test_split(x_train, y_train, test_size=0.1, random_state=42)\n",
    "\n",
    "print(f\"{len(x_train)} training samples\")\n",
    "print(f\"{len(x_val)} validation samples\")\n",
    "print(f\"{len(x_test)} test samples\")"
   ]
  },
  {
   "cell_type": "markdown",
   "id": "39d4f23f",
   "metadata": {},
   "source": [
    "# Setup para modelar"
   ]
  },
  {
   "cell_type": "code",
   "execution_count": 22,
   "id": "32c46831",
   "metadata": {},
   "outputs": [],
   "source": [
    "# Metricas\n",
    "from sklearn.metrics import mean_squared_error\n",
    "from sklearn.metrics import mean_absolute_error\n",
    "from sklearn.metrics import mean_absolute_percentage_error\n",
    "from sklearn.metrics import r2_score\n",
    "import time\n",
    "\n",
    "# Modelos\n",
    "from sklearn.neighbors import KNeighborsRegressor # kNN\n",
    "from sklearn.tree import DecisionTreeRegressor # Arbol de Decisiones\n",
    "from sklearn.svm import SVR # Support Vector Regression\n",
    "from sklearn.linear_model import Lasso # Regresion Regularizada con Lasso\n",
    "from sklearn.ensemble import RandomForestRegressor # Random Forest\n",
    "from sklearn.neural_network import MLPRegressor # Multi Layer perceptron\n",
    "from sklearn.gaussian_process import GaussianProcessRegressor\n",
    "from sklearn.svm import LinearSVR # Linear Support Vector Regression\n",
    "\n",
    "# Para poder hacer búsqueda de línea \n",
    "from sklearn.preprocessing import MinMaxScaler\n",
    "from sklearn.model_selection import GridSearchCV"
   ]
  },
  {
   "cell_type": "code",
   "execution_count": 23,
   "id": "9f6b0e18",
   "metadata": {},
   "outputs": [],
   "source": [
    "# Set print options for decimal values\n",
    "np.set_printoptions(formatter={'float': lambda x: \"{0:0.2f}\".format(x)})"
   ]
  },
  {
   "cell_type": "markdown",
   "id": "f45fbe41",
   "metadata": {},
   "source": [
    "# K-vecinos"
   ]
  },
  {
   "cell_type": "code",
   "execution_count": 24,
   "id": "54e19899",
   "metadata": {},
   "outputs": [
    {
     "name": "stdout",
     "output_type": "stream",
     "text": [
      "Training time: 362.5565450191498s\n",
      "Best score: 0.678\n",
      "Best params: {'algorithm': 'auto', 'n_neighbors': 19, 'p': 1, 'weights': 'distance'}\n"
     ]
    }
   ],
   "source": [
    "# Grid search over kNN regressor\n",
    "parameters = {'n_neighbors': range(1, 20), 'weights': ['uniform', 'distance'],\n",
    "              'p': range(1, 2), 'algorithm': ['auto', 'ball_tree']}\n",
    "\n",
    "gs_model = GridSearchCV(KNeighborsRegressor(), parameters, n_jobs=-1, scoring=\"r2\")\n",
    "start = time.time()\n",
    "gs_model.fit(x_train, y_train)\n",
    "stop = time.time()\n",
    "\n",
    "print(f\"Training time: {stop - start}s\")\n",
    "print(f\"Best score: {gs_model.best_score_:.3f}\")\n",
    "print(f\"Best params: {gs_model.best_params_}\")"
   ]
  },
  {
   "cell_type": "code",
   "execution_count": 26,
   "id": "85c07286",
   "metadata": {},
   "outputs": [
    {
     "name": "stdout",
     "output_type": "stream",
     "text": [
      "MSE on the training set: 0.000\n",
      "MSE on the validation set: 9.578\n",
      "MSE on the test set: 9.614\n",
      "\n",
      "MAE on the training set: 0.000\n",
      "MAE on the validation set: 2.254\n",
      "MAE on the test set: 2.230\n",
      "\n",
      "MAPE on the training set: 0.000\n",
      "MAPE on the validation set: 0.075\n",
      "MAPE on the test set: 0.075\n",
      "\n",
      "R^2 on the training set: 1.000\n",
      "R^2 on the validation set: 0.508\n",
      "R^2 on the test set: 0.519\n"
     ]
    }
   ],
   "source": [
    "# Predict on validation data, and print score\n",
    "y_val_hat = gs_model.best_estimator_.predict(x_val)\n",
    "\n",
    "print(f\"MSE on the training set: {mean_squared_error(gs_model.best_estimator_.predict(x_train), y_train):.3f}\")\n",
    "print(f\"MSE on the validation set: {mean_squared_error(gs_model.best_estimator_.predict(x_val), y_val):.3f}\")\n",
    "print(f\"MSE on the test set: {mean_squared_error(gs_model.best_estimator_.predict(x_test), y_test):.3f}\")\n",
    "print()\n",
    "print(f\"MAE on the training set: {mean_absolute_error(gs_model.best_estimator_.predict(x_train), y_train):.3f}\")\n",
    "print(f\"MAE on the validation set: {mean_absolute_error(gs_model.best_estimator_.predict(x_val), y_val):.3f}\")\n",
    "print(f\"MAE on the test set: {mean_absolute_error(gs_model.best_estimator_.predict(x_test), y_test):.3f}\")\n",
    "print()\n",
    "print(f\"MAPE on the training set: {mean_absolute_percentage_error(gs_model.best_estimator_.predict(x_train), y_train):.3f}\")\n",
    "print(f\"MAPE on the validation set: {mean_absolute_percentage_error(gs_model.best_estimator_.predict(x_val), y_val):.3f}\")\n",
    "print(f\"MAPE on the test set: {mean_absolute_percentage_error(gs_model.best_estimator_.predict(x_test), y_test):.3f}\")\n",
    "print()\n",
    "print(f\"R^2 on the training set: {r2_score(gs_model.best_estimator_.predict(x_train), y_train):.3f}\")\n",
    "print(f\"R^2 on the validation set: {r2_score(gs_model.best_estimator_.predict(x_val), y_val):.3f}\")\n",
    "print(f\"R^2 on the test set: {r2_score(gs_model.best_estimator_.predict(x_test), y_test):.3f}\")"
   ]
  },
  {
   "cell_type": "markdown",
   "id": "02332e6d",
   "metadata": {},
   "source": [
    "# Regresion regularizada con Lasso"
   ]
  },
  {
   "cell_type": "code",
   "execution_count": 27,
   "id": "6bcc9813",
   "metadata": {},
   "outputs": [
    {
     "name": "stdout",
     "output_type": "stream",
     "text": [
      "Training time: 215.85090708732605s\n",
      "Best score: 0.523\n",
      "Best params: {'alpha': 0.0009399376922881782, 'normalize': 'True'}\n"
     ]
    }
   ],
   "source": [
    "# Grid search over Lasso Regularized Linear Regression\n",
    "parameters = {'normalize': ['True', 'False'], 'alpha':np.logspace(-10, 0,base = np.e, num=100, endpoint = True).tolist()}\n",
    "\n",
    "gs_model = GridSearchCV(Lasso(tol = 1e3), parameters, n_jobs=-1, scoring='r2')\n",
    "start = time.time()\n",
    "gs_model.fit(x_train, y_train)\n",
    "stop = time.time()\n",
    "\n",
    "print(f\"Training time: {stop - start}s\")\n",
    "print(f\"Best score: {gs_model.best_score_:.3f}\")\n",
    "print(f\"Best params: {gs_model.best_params_}\")"
   ]
  },
  {
   "cell_type": "code",
   "execution_count": 28,
   "id": "eb09aec0",
   "metadata": {},
   "outputs": [
    {
     "name": "stdout",
     "output_type": "stream",
     "text": [
      "MSE on the training set: 11.420\n",
      "MSE on the validation set: 13.251\n",
      "MSE on the test set: 13.999\n",
      "\n",
      "MAE on the training set: 2.566\n",
      "MAE on the validation set: 2.798\n",
      "MAE on the test set: 2.836\n",
      "\n",
      "MAPE on the training set: 0.083\n",
      "MAPE on the validation set: 0.090\n",
      "MAPE on the test set: 0.092\n",
      "\n",
      "R^2 on the training set: 0.389\n",
      "R^2 on the validation set: 0.325\n",
      "R^2 on the test set: 0.266\n"
     ]
    }
   ],
   "source": [
    "# Predict on validation data, and print score\n",
    "y_val_hat = gs_model.best_estimator_.predict(x_val)\n",
    "\n",
    "print(f\"MSE on the training set: {mean_squared_error(gs_model.best_estimator_.predict(x_train), y_train):.3f}\")\n",
    "print(f\"MSE on the validation set: {mean_squared_error(gs_model.best_estimator_.predict(x_val), y_val):.3f}\")\n",
    "print(f\"MSE on the test set: {mean_squared_error(gs_model.best_estimator_.predict(x_test), y_test):.3f}\")\n",
    "print()\n",
    "print(f\"MAE on the training set: {mean_absolute_error(gs_model.best_estimator_.predict(x_train), y_train):.3f}\")\n",
    "print(f\"MAE on the validation set: {mean_absolute_error(gs_model.best_estimator_.predict(x_val), y_val):.3f}\")\n",
    "print(f\"MAE on the test set: {mean_absolute_error(gs_model.best_estimator_.predict(x_test), y_test):.3f}\")\n",
    "print()\n",
    "print(f\"MAPE on the training set: {mean_absolute_percentage_error(gs_model.best_estimator_.predict(x_train), y_train):.3f}\")\n",
    "print(f\"MAPE on the validation set: {mean_absolute_percentage_error(gs_model.best_estimator_.predict(x_val), y_val):.3f}\")\n",
    "print(f\"MAPE on the test set: {mean_absolute_percentage_error(gs_model.best_estimator_.predict(x_test), y_test):.3f}\")\n",
    "print()\n",
    "print(f\"R^2 on the training set: {r2_score(gs_model.best_estimator_.predict(x_train), y_train):.3f}\")\n",
    "print(f\"R^2 on the validation set: {r2_score(gs_model.best_estimator_.predict(x_val), y_val):.3f}\")\n",
    "print(f\"R^2 on the test set: {r2_score(gs_model.best_estimator_.predict(x_test), y_test):.3f}\")"
   ]
  },
  {
   "cell_type": "markdown",
   "id": "1b614e81",
   "metadata": {},
   "source": [
    "# Arbol de decisiones"
   ]
  },
  {
   "cell_type": "code",
   "execution_count": 29,
   "id": "5b7c8ec8",
   "metadata": {},
   "outputs": [
    {
     "name": "stdout",
     "output_type": "stream",
     "text": [
      "Training time: 2.8423922061920166s\n",
      "Best score: 0.502\n",
      "Best params: {'splitter': 'best'}\n"
     ]
    }
   ],
   "source": [
    "# Grid search over DecisionTree\n",
    "parameters = {'splitter': ['best', 'random']}\n",
    "\n",
    "gs_model = GridSearchCV(DecisionTreeRegressor(), parameters, n_jobs=-1, scoring=\"r2\")\n",
    "start = time.time()\n",
    "gs_model.fit(x_train, y_train)\n",
    "stop = time.time()\n",
    "\n",
    "print(f\"Training time: {stop - start}s\")\n",
    "print(f\"Best score: {gs_model.best_score_:.3f}\")\n",
    "print(f\"Best params: {gs_model.best_params_}\")"
   ]
  },
  {
   "cell_type": "code",
   "execution_count": 30,
   "id": "6fa77774",
   "metadata": {},
   "outputs": [
    {
     "name": "stdout",
     "output_type": "stream",
     "text": [
      "MSE on the training set: 0.000\n",
      "MSE on the validation set: 13.975\n",
      "MSE on the test set: 14.857\n",
      "\n",
      "MAE on the training set: 0.000\n",
      "MAE on the validation set: 2.622\n",
      "MAE on the test set: 2.662\n",
      "\n",
      "MAPE on the training set: 0.000\n",
      "MAPE on the validation set: 0.090\n",
      "MAPE on the test set: 0.093\n",
      "\n",
      "R^2 on the training set: 1.000\n",
      "R^2 on the validation set: 0.463\n",
      "R^2 on the test set: 0.476\n"
     ]
    }
   ],
   "source": [
    "# Predict on validation data, and print score\n",
    "y_val_hat = gs_model.best_estimator_.predict(x_val)\n",
    "\n",
    "print(f\"MSE on the training set: {mean_squared_error(gs_model.best_estimator_.predict(x_train), y_train):.3f}\")\n",
    "print(f\"MSE on the validation set: {mean_squared_error(gs_model.best_estimator_.predict(x_val), y_val):.3f}\")\n",
    "print(f\"MSE on the test set: {mean_squared_error(gs_model.best_estimator_.predict(x_test), y_test):.3f}\")\n",
    "print()\n",
    "print(f\"MAE on the training set: {mean_absolute_error(gs_model.best_estimator_.predict(x_train), y_train):.3f}\")\n",
    "print(f\"MAE on the validation set: {mean_absolute_error(gs_model.best_estimator_.predict(x_val), y_val):.3f}\")\n",
    "print(f\"MAE on the test set: {mean_absolute_error(gs_model.best_estimator_.predict(x_test), y_test):.3f}\")\n",
    "print()\n",
    "print(f\"MAPE on the training set: {mean_absolute_percentage_error(gs_model.best_estimator_.predict(x_train), y_train):.3f}\")\n",
    "print(f\"MAPE on the validation set: {mean_absolute_percentage_error(gs_model.best_estimator_.predict(x_val), y_val):.3f}\")\n",
    "print(f\"MAPE on the test set: {mean_absolute_percentage_error(gs_model.best_estimator_.predict(x_test), y_test):.3f}\")\n",
    "print()\n",
    "print(f\"R^2 on the training set: {r2_score(gs_model.best_estimator_.predict(x_train), y_train):.3f}\")\n",
    "print(f\"R^2 on the validation set: {r2_score(gs_model.best_estimator_.predict(x_val), y_val):.3f}\")\n",
    "print(f\"R^2 on the test set: {r2_score(gs_model.best_estimator_.predict(x_test), y_test):.3f}\")"
   ]
  },
  {
   "cell_type": "markdown",
   "id": "bcb86208",
   "metadata": {},
   "source": [
    "# Random Forest"
   ]
  },
  {
   "cell_type": "code",
   "execution_count": 31,
   "id": "bf728333",
   "metadata": {},
   "outputs": [
    {
     "name": "stdout",
     "output_type": "stream",
     "text": [
      "Training time: 138.40102791786194s\n",
      "Best score: 0.747\n",
      "Best params: {'n_estimators': 300}\n"
     ]
    }
   ],
   "source": [
    "# Grid search over Random Forest\n",
    "parameters = {'n_estimators': [10,20,30,100,300]}\n",
    "\n",
    "gs_model = GridSearchCV(RandomForestRegressor(), parameters, n_jobs=-1, scoring=\"r2\")\n",
    "start = time.time()\n",
    "gs_model.fit(x_train, y_train)\n",
    "stop = time.time()\n",
    "\n",
    "print(f\"Training time: {stop - start}s\")\n",
    "print(f\"Best score: {gs_model.best_score_:.3f}\")\n",
    "print(f\"Best params: {gs_model.best_params_}\")"
   ]
  },
  {
   "cell_type": "code",
   "execution_count": 32,
   "id": "e92474e5",
   "metadata": {},
   "outputs": [
    {
     "name": "stdout",
     "output_type": "stream",
     "text": [
      "MSE on the training set: 0.930\n",
      "MSE on the validation set: 7.267\n",
      "MSE on the test set: 7.510\n",
      "\n",
      "MAE on the training set: 0.675\n",
      "MAE on the validation set: 1.895\n",
      "MAE on the test set: 1.916\n",
      "\n",
      "MAPE on the training set: 0.023\n",
      "MAPE on the validation set: 0.063\n",
      "MAPE on the test set: 0.065\n",
      "\n",
      "R^2 on the training set: 0.959\n",
      "R^2 on the validation set: 0.637\n",
      "R^2 on the test set: 0.654\n"
     ]
    }
   ],
   "source": [
    "# Predict on validation data, and print score\n",
    "y_val_hat = gs_model.best_estimator_.predict(x_val)\n",
    "\n",
    "print(f\"MSE on the training set: {mean_squared_error(gs_model.best_estimator_.predict(x_train), y_train):.3f}\")\n",
    "print(f\"MSE on the validation set: {mean_squared_error(gs_model.best_estimator_.predict(x_val), y_val):.3f}\")\n",
    "print(f\"MSE on the test set: {mean_squared_error(gs_model.best_estimator_.predict(x_test), y_test):.3f}\")\n",
    "print()\n",
    "print(f\"MAE on the training set: {mean_absolute_error(gs_model.best_estimator_.predict(x_train), y_train):.3f}\")\n",
    "print(f\"MAE on the validation set: {mean_absolute_error(gs_model.best_estimator_.predict(x_val), y_val):.3f}\")\n",
    "print(f\"MAE on the test set: {mean_absolute_error(gs_model.best_estimator_.predict(x_test), y_test):.3f}\")\n",
    "print()\n",
    "print(f\"MAPE on the training set: {mean_absolute_percentage_error(gs_model.best_estimator_.predict(x_train), y_train):.3f}\")\n",
    "print(f\"MAPE on the validation set: {mean_absolute_percentage_error(gs_model.best_estimator_.predict(x_val), y_val):.3f}\")\n",
    "print(f\"MAPE on the test set: {mean_absolute_percentage_error(gs_model.best_estimator_.predict(x_test), y_test):.3f}\")\n",
    "print()\n",
    "print(f\"R^2 on the training set: {r2_score(gs_model.best_estimator_.predict(x_train), y_train):.3f}\")\n",
    "print(f\"R^2 on the validation set: {r2_score(gs_model.best_estimator_.predict(x_val), y_val):.3f}\")\n",
    "print(f\"R^2 on the test set: {r2_score(gs_model.best_estimator_.predict(x_test), y_test):.3f}\")"
   ]
  },
  {
   "cell_type": "markdown",
   "id": "c455c102",
   "metadata": {},
   "source": [
    "# Procesos Gausianos"
   ]
  },
  {
   "cell_type": "code",
   "execution_count": 33,
   "id": "e32d96fe",
   "metadata": {},
   "outputs": [
    {
     "name": "stdout",
     "output_type": "stream",
     "text": [
      "Training time: 123.96700859069824s\n",
      "Best score: -26.832\n",
      "Best params: {'n_restarts_optimizer': 0}\n"
     ]
    }
   ],
   "source": [
    "# Grid search over Random Forest\n",
    "parameters = {\"n_restarts_optimizer\": [0,1,2]}\n",
    "\n",
    "gs_model = GridSearchCV(GaussianProcessRegressor(normalize_y = True), parameters, n_jobs=-1, scoring=\"neg_mean_squared_error\")\n",
    "start = time.time()\n",
    "gs_model.fit(x_train, y_train)\n",
    "stop = time.time()\n",
    "\n",
    "print(f\"Training time: {stop - start}s\")\n",
    "print(f\"Best score: {gs_model.best_score_:.3f}\")\n",
    "print(f\"Best params: {gs_model.best_params_}\")"
   ]
  },
  {
   "cell_type": "code",
   "execution_count": 34,
   "id": "e40e28b5",
   "metadata": {},
   "outputs": [
    {
     "name": "stdout",
     "output_type": "stream",
     "text": [
      "MSE on the training set: 0.000\n",
      "MSE on the validation set: 27.598\n",
      "MSE on the test set: 28.666\n",
      "\n",
      "MAE on the training set: 0.000\n",
      "MAE on the validation set: 4.161\n",
      "MAE on the test set: 4.193\n",
      "\n",
      "MAPE on the training set: 0.000\n",
      "MAPE on the validation set: 0.129\n",
      "MAPE on the test set: 0.130\n",
      "\n",
      "R^2 on the training set: 1.000\n",
      "R^2 on the validation set: -546636968986984066861179600896.000\n",
      "R^2 on the test set: 0.000\n"
     ]
    }
   ],
   "source": [
    "## Predict on validation data, and print score\n",
    "y_val_hat = gs_model.best_estimator_.predict(x_val)\n",
    "\n",
    "print(f\"MSE on the training set: {mean_squared_error(gs_model.best_estimator_.predict(x_train), y_train):.3f}\")\n",
    "print(f\"MSE on the validation set: {mean_squared_error(gs_model.best_estimator_.predict(x_val), y_val):.3f}\")\n",
    "print(f\"MSE on the test set: {mean_squared_error(gs_model.best_estimator_.predict(x_test), y_test):.3f}\")\n",
    "print()\n",
    "print(f\"MAE on the training set: {mean_absolute_error(gs_model.best_estimator_.predict(x_train), y_train):.3f}\")\n",
    "print(f\"MAE on the validation set: {mean_absolute_error(gs_model.best_estimator_.predict(x_val), y_val):.3f}\")\n",
    "print(f\"MAE on the test set: {mean_absolute_error(gs_model.best_estimator_.predict(x_test), y_test):.3f}\")\n",
    "print()\n",
    "print(f\"MAPE on the training set: {mean_absolute_percentage_error(gs_model.best_estimator_.predict(x_train), y_train):.3f}\")\n",
    "print(f\"MAPE on the validation set: {mean_absolute_percentage_error(gs_model.best_estimator_.predict(x_val), y_val):.3f}\")\n",
    "print(f\"MAPE on the test set: {mean_absolute_percentage_error(gs_model.best_estimator_.predict(x_test), y_test):.3f}\")\n",
    "print()\n",
    "print(f\"R^2 on the training set: {r2_score(gs_model.best_estimator_.predict(x_train), y_train):.3f}\")\n",
    "print(f\"R^2 on the validation set: {r2_score(gs_model.best_estimator_.predict(x_val), y_val):.3f}\")\n",
    "print(f\"R^2 on the test set: {r2_score(gs_model.best_estimator_.predict(x_test), y_test):.3f}\")"
   ]
  },
  {
   "cell_type": "markdown",
   "id": "9c575d9a",
   "metadata": {},
   "source": [
    "# Multi Layer Perceptron"
   ]
  },
  {
   "cell_type": "code",
   "execution_count": 35,
   "id": "523e280d",
   "metadata": {},
   "outputs": [
    {
     "name": "stdout",
     "output_type": "stream",
     "text": [
      "Training time: 764.9392211437225s\n",
      "Best score: -538018102513548.375\n",
      "Best params: {'alpha': 0.1, 'hidden_layer_sizes': (25, 25), 'learning_rate_init': 0.0001}\n"
     ]
    }
   ],
   "source": [
    "# Grid search over MLP\n",
    "parameters = {'alpha': [0.000001, 0.1, 0.2], \"hidden_layer_sizes\": [(100),(25,25)], \\\n",
    "              \"learning_rate_init\": [1e-4, 1e-6]}\n",
    "\n",
    "gs_model = GridSearchCV(MLPRegressor(max_iter = 400), parameters, n_jobs=-1, scoring=\"r2\")\n",
    "start = time.time()\n",
    "gs_model.fit(x_train, y_train)\n",
    "stop = time.time()\n",
    "\n",
    "print(f\"Training time: {stop - start}s\")\n",
    "print(f\"Best score: {gs_model.best_score_:.3f}\")\n",
    "print(f\"Best params: {gs_model.best_params_}\")"
   ]
  },
  {
   "cell_type": "code",
   "execution_count": 36,
   "id": "ee0bfc54",
   "metadata": {},
   "outputs": [
    {
     "name": "stdout",
     "output_type": "stream",
     "text": [
      "MSE on the training set: 30275016226827600.000\n",
      "MSE on the validation set: 41409786944206888.000\n",
      "MSE on the test set: 31302426719297900.000\n",
      "\n",
      "MAE on the training set: 73609462.669\n",
      "MAE on the validation set: 73549200.876\n",
      "MAE on the test set: 72631587.681\n",
      "\n",
      "MAPE on the training set: 1.000\n",
      "MAPE on the validation set: 1.000\n",
      "MAPE on the test set: 1.000\n",
      "\n",
      "R^2 on the training set: -0.002\n",
      "R^2 on the validation set: -0.001\n",
      "R^2 on the test set: -0.001\n"
     ]
    }
   ],
   "source": [
    "# Predict on validation data, and print score\n",
    "y_val_hat = gs_model.best_estimator_.predict(x_val)\n",
    "\n",
    "print(f\"MSE on the training set: {mean_squared_error(gs_model.best_estimator_.predict(x_train), y_train):.3f}\")\n",
    "print(f\"MSE on the validation set: {mean_squared_error(gs_model.best_estimator_.predict(x_val), y_val):.3f}\")\n",
    "print(f\"MSE on the test set: {mean_squared_error(gs_model.best_estimator_.predict(x_test), y_test):.3f}\")\n",
    "print()\n",
    "print(f\"MAE on the training set: {mean_absolute_error(gs_model.best_estimator_.predict(x_train), y_train):.3f}\")\n",
    "print(f\"MAE on the validation set: {mean_absolute_error(gs_model.best_estimator_.predict(x_val), y_val):.3f}\")\n",
    "print(f\"MAE on the test set: {mean_absolute_error(gs_model.best_estimator_.predict(x_test), y_test):.3f}\")\n",
    "print()\n",
    "print(f\"MAPE on the training set: {mean_absolute_percentage_error(gs_model.best_estimator_.predict(x_train), y_train):.3f}\")\n",
    "print(f\"MAPE on the validation set: {mean_absolute_percentage_error(gs_model.best_estimator_.predict(x_val), y_val):.3f}\")\n",
    "print(f\"MAPE on the test set: {mean_absolute_percentage_error(gs_model.best_estimator_.predict(x_test), y_test):.3f}\")\n",
    "print()\n",
    "print(f\"R^2 on the training set: {r2_score(gs_model.best_estimator_.predict(x_train), y_train):.3f}\")\n",
    "print(f\"R^2 on the validation set: {r2_score(gs_model.best_estimator_.predict(x_val), y_val):.3f}\")\n",
    "print(f\"R^2 on the test set: {r2_score(gs_model.best_estimator_.predict(x_test), y_test):.3f}\")"
   ]
  },
  {
   "cell_type": "markdown",
   "id": "8e82aa8a",
   "metadata": {},
   "source": [
    "# Support Vector Regression"
   ]
  },
  {
   "cell_type": "code",
   "execution_count": null,
   "id": "48767e0b",
   "metadata": {},
   "outputs": [
    {
     "name": "stdout",
     "output_type": "stream",
     "text": [
      "Fitting 2 folds for each of 270 candidates, totalling 540 fits\n"
     ]
    }
   ],
   "source": [
    "# Grid search over SVR\n",
    "parameters = {'kernel': ['linear', 'poly', 'rbf'], 'degree': range(1, 4),\n",
    "              'coef0': [0.0, 0.001, 0.01, 0.1, 1.0], 'C': [0.001, 0.01, 0.1, 1.0, 10, 100]}\n",
    "\n",
    "gs_model = GridSearchCV(SVR(), parameters, cv=2, n_jobs=-1, verbose=2)\n",
    "start = time.time()\n",
    "gs_model.fit(x_train, y_train)\n",
    "stop = time.time()\n",
    "\n",
    "print(f\"Training time: {stop - start}s\")\n",
    "print(f\"Best score: {gs_model.best_score_:.3f}\")\n",
    "print(f\"Best params: {gs_model.best_params_}\")"
   ]
  },
  {
   "cell_type": "code",
   "execution_count": null,
   "id": "af254ddb",
   "metadata": {},
   "outputs": [],
   "source": [
    "# Predict on validation data, and print score\n",
    "y_val_hat = gs_model.best_estimator_.predict(x_val)\n",
    "\n",
    "print(f\"MSE on the training set: {mean_squared_error(gs_model.best_estimator_.predict(x_train), y_train):.3f}\")\n",
    "print(f\"MSE on the validation set: {mean_squared_error(gs_model.best_estimator_.predict(x_val), y_val):.3f}\")\n",
    "print(f\"MSE on the test set: {mean_squared_error(gs_model.best_estimator_.predict(x_test), y_test):.3f}\")\n",
    "print()\n",
    "print(f\"MAE on the training set: {mean_absolute_error(gs_model.best_estimator_.predict(x_train), y_train):.3f}\")\n",
    "print(f\"MAE on the validation set: {mean_absolute_error(gs_model.best_estimator_.predict(x_val), y_val):.3f}\")\n",
    "print(f\"MAE on the test set: {mean_absolute_error(gs_model.best_estimator_.predict(x_test), y_test):.3f}\")\n",
    "print()\n",
    "print(f\"MAPE on the training set: {mean_absolute_percentage_error(gs_model.best_estimator_.predict(x_train), y_train):.3f}\")\n",
    "print(f\"MAPE on the validation set: {mean_absolute_percentage_error(gs_model.best_estimator_.predict(x_val), y_val):.3f}\")\n",
    "print(f\"MAPE on the test set: {mean_absolute_percentage_error(gs_model.best_estimator_.predict(x_test), y_test):.3f}\")\n",
    "print()\n",
    "print(f\"R^2 on the training set: {r2_score(gs_model.best_estimator_.predict(x_train), y_train):.3f}\")\n",
    "print(f\"R^2 on the validation set: {r2_score(gs_model.best_estimator_.predict(x_val), y_val):.3f}\")\n",
    "print(f\"R^2 on the test set: {r2_score(gs_model.best_estimator_.predict(x_test), y_test):.3f}\")"
   ]
  },
  {
   "cell_type": "markdown",
   "id": "25955e86",
   "metadata": {},
   "source": [
    "# Linear Support Vector Regression"
   ]
  },
  {
   "cell_type": "code",
   "execution_count": null,
   "id": "50146c13",
   "metadata": {},
   "outputs": [],
   "source": [
    "# Grid search over SVR\n",
    "parameters = {}\n",
    "\n",
    "gs_model = GridSearchCV(LinearSVR(max_iter = 1e6), parameters, cv=2, n_jobs=-1, verbose=2)\n",
    "start = time.time()\n",
    "gs_model.fit(x_train, y_train)\n",
    "stop = time.time()\n",
    "\n",
    "print(f\"Training time: {stop - start}s\")\n",
    "print(f\"Best score: {gs_model.best_score_:.3f}\")\n",
    "print(f\"Best params: {gs_model.best_params_}\")"
   ]
  },
  {
   "cell_type": "code",
   "execution_count": null,
   "id": "6bd4d605",
   "metadata": {},
   "outputs": [],
   "source": [
    "# Predict on validation data, and print score\n",
    "y_val_hat = gs_model.best_estimator_.predict(x_val)\n",
    "\n",
    "print(f\"MSE on the training set: {mean_squared_error(gs_model.best_estimator_.predict(x_train), y_train):.3f}\")\n",
    "print(f\"MSE on the validation set: {mean_squared_error(gs_model.best_estimator_.predict(x_val), y_val):.3f}\")\n",
    "print(f\"MSE on the test set: {mean_squared_error(gs_model.best_estimator_.predict(x_test), y_test):.3f}\")\n",
    "print()\n",
    "print(f\"MAE on the training set: {mean_absolute_error(gs_model.best_estimator_.predict(x_train), y_train):.3f}\")\n",
    "print(f\"MAE on the validation set: {mean_absolute_error(gs_model.best_estimator_.predict(x_val), y_val):.3f}\")\n",
    "print(f\"MAE on the test set: {mean_absolute_error(gs_model.best_estimator_.predict(x_test), y_test):.3f}\")\n",
    "print()\n",
    "print(f\"MAPE on the training set: {mean_absolute_percentage_error(gs_model.best_estimator_.predict(x_train), y_train):.3f}\")\n",
    "print(f\"MAPE on the validation set: {mean_absolute_percentage_error(gs_model.best_estimator_.predict(x_val), y_val):.3f}\")\n",
    "print(f\"MAPE on the test set: {mean_absolute_percentage_error(gs_model.best_estimator_.predict(x_test), y_test):.3f}\")\n",
    "print()\n",
    "print(f\"R^2 on the training set: {r2_score(gs_model.best_estimator_.predict(x_train), y_train):.3f}\")\n",
    "print(f\"R^2 on the validation set: {r2_score(gs_model.best_estimator_.predict(x_val), y_val):.3f}\")\n",
    "print(f\"R^2 on the test set: {r2_score(gs_model.best_estimator_.predict(x_test), y_test):.3f}\")"
   ]
  },
  {
   "cell_type": "code",
   "execution_count": null,
   "id": "ef49758f",
   "metadata": {},
   "outputs": [],
   "source": []
  }
 ],
 "metadata": {
  "kernelspec": {
   "display_name": "Python 3",
   "language": "python",
   "name": "python3"
  },
  "language_info": {
   "codemirror_mode": {
    "name": "ipython",
    "version": 3
   },
   "file_extension": ".py",
   "mimetype": "text/x-python",
   "name": "python",
   "nbconvert_exporter": "python",
   "pygments_lexer": "ipython3",
   "version": "3.8.8"
  }
 },
 "nbformat": 4,
 "nbformat_minor": 5
}
