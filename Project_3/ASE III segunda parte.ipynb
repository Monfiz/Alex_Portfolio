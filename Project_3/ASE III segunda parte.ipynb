{
 "cells": [
  {
   "cell_type": "markdown",
   "metadata": {},
   "source": [
    "# Desarrollo Algoritmos subsecuencias "
   ]
  },
  {
   "cell_type": "markdown",
   "metadata": {},
   "source": [
    "Algoritmo que genera subsecuencias"
   ]
  },
  {
   "cell_type": "code",
   "execution_count": 1,
   "metadata": {},
   "outputs": [],
   "source": [
    "def subsecuencias(string, k):\n",
    "    ls = []\n",
    "    for i in range(len(string)):\n",
    "        ls.append(string[i: i+k])\n",
    "    ls = ls[:-(k-1)]\n",
    "    return ls"
   ]
  },
  {
   "cell_type": "code",
   "execution_count": 2,
   "metadata": {},
   "outputs": [],
   "source": [
    "def subsecuencias2(string, k):\n",
    "    ls = []\n",
    "    for i in range(len(string)):\n",
    "        ls.append(string[i: i+k])\n",
    "    \n",
    "    return ls"
   ]
  },
  {
   "cell_type": "code",
   "execution_count": 3,
   "metadata": {},
   "outputs": [
    {
     "name": "stdout",
     "output_type": "stream",
     "text": [
      "['hol', 'ola', 'lah', 'aho', 'hol', 'ola']\n",
      "['hol', 'ola', 'lah', 'aho', 'hol', 'ola', 'la', 'a']\n"
     ]
    }
   ],
   "source": [
    "print(subsecuencias('holahola', 3))\n",
    "print(subsecuencias2('holahola', 3))"
   ]
  },
  {
   "cell_type": "markdown",
   "metadata": {},
   "source": [
    "Ordena y cuenta la aparición de subsecuencias"
   ]
  },
  {
   "cell_type": "code",
   "execution_count": 4,
   "metadata": {},
   "outputs": [],
   "source": [
    "def contador(adn, k):\n",
    "    \n",
    "    lista_secuencias = subsecuencias(adn, k) #genera lsita con todas las secuencias \n",
    "    \n",
    "    lista_sin_rep = [] #lista sin repeticiones de secuencia, se va llenando con el for \n",
    "    for i in range(len(lista_secuencias)):\n",
    "        if lista_secuencias[i] in lista_sin_rep:\n",
    "            continue\n",
    "        else:\n",
    "            lista_sin_rep.append(lista_secuencias[i])\n",
    "            \n",
    "    lista_ordenada = sorted(lista_sin_rep)#lista sin rep ordenada en orden alfabético\n",
    "    \n",
    "    cuenta = [] #lleva la cuenta de las apariciones de las subsecuencias \n",
    "    for i in lista_ordenada:\n",
    "        cuenta.append(lista_secuencias.count(i))\n",
    "    # return cuenta, lista_ordenada\n",
    "    return cuenta"
   ]
  },
  {
   "cell_type": "markdown",
   "metadata": {},
   "source": [
    "Ejemplo:"
   ]
  },
  {
   "cell_type": "code",
   "execution_count": 5,
   "metadata": {},
   "outputs": [
    {
     "name": "stdout",
     "output_type": "stream",
     "text": [
      "[2, 1, 1, 1, 4, 2, 1, 2, 1, 1, 1, 1]\n"
     ]
    }
   ],
   "source": [
    "s = 'holapaoxdholaholahola'\n",
    "print(contador(s, 4))"
   ]
  },
  {
   "cell_type": "markdown",
   "metadata": {},
   "source": [
    "Prueba con ADN"
   ]
  },
  {
   "cell_type": "code",
   "execution_count": 6,
   "metadata": {},
   "outputs": [
    {
     "name": "stdout",
     "output_type": "stream",
     "text": [
      "[16, 2, 1, 1, 1, 1, 1, 1, 1, 2, 1, 1, 1, 1, 1, 1, 1, 1, 1, 2, 3, 1, 2, 1, 1, 2, 2, 1, 2, 1, 1, 2, 1, 2, 2, 1, 1, 1, 1, 1, 1, 1, 1, 2, 1, 1, 1, 1, 1, 1, 2, 1, 2, 2, 2, 1, 3, 1, 1, 1, 1, 1, 2, 1, 1, 1, 1, 1, 1, 1, 1, 1, 1, 1, 1, 1, 1]\n"
     ]
    }
   ],
   "source": [
    "adn_prueba = 'CAGCCGATCATCAGCACATCTAGGTAAAAAAAAAACCGAAAAAAAAAAAGGTAAGATGGAGCCTGGTTTCAACGAGAAAACACACGTCCAACTCAGTTTGCCTGTTTTACAGGTT'\n",
    "\n",
    "print(contador(adn_prueba, 4))"
   ]
  },
  {
   "cell_type": "code",
   "execution_count": 7,
   "metadata": {},
   "outputs": [],
   "source": [
    "import time"
   ]
  },
  {
   "cell_type": "markdown",
   "metadata": {},
   "source": [
    "# Lista de genes "
   ]
  },
  {
   "cell_type": "code",
   "execution_count": 8,
   "metadata": {},
   "outputs": [],
   "source": [
    "def genesis(prueba):\n",
    "\n",
    "    indicadores = [] #lista que me dice donde empieza cada gen \n",
    "    for i in range(len(prueba)):\n",
    "        if prueba[i][0] == '>':\n",
    "            indicadores.append(i)\n",
    "    #print('indicadores', indicadores)\n",
    "\n",
    "    igenes= list(range(len(indicadores)))\n",
    "    #creo una lista que me dirá donde recortar cada gen con ayuda de los indicadores\n",
    "    for e in range(len(indicadores)):\n",
    "        if e + 1 < len(indicadores):\n",
    "            igenes[e] = [indicadores[e] + 1 , indicadores[e+1]]\n",
    "        \n",
    "    igenes = igenes[:-1] #quito el último elemento, porque le hace falta parametro \n",
    "    #print('igenes',igenes)\n",
    "    \n",
    "    #creo una lista que recorta cada gen y los guarda en listas dentro de la lista \n",
    "    genes = list(range(len(igenes)))\n",
    "    for i in range(len(igenes)):\n",
    "        genes[i] = prueba[igenes[i][0]: igenes[i][1]]\n",
    "    #print('genes', genes)  \n",
    "    \n",
    "    #remuevo los saltos de linea \n",
    "    gen_l = genes[:]\n",
    "    for i in range(len(genes)): \n",
    "        for j in range(len(genes[i])):\n",
    "            gen_l[i][j] = genes[i][j].replace(\"\\n\",\"\")\n",
    "    #print('gen_l',gen_l)\n",
    "    \n",
    "    #uno los caracteres de cada gen en uno solo\n",
    "    gen_list = list(range(len(gen_l)))\n",
    "    \n",
    "    for i in range(len(gen_l)):\n",
    "        gen_list[i] = \"\".join(gen_l[i]) \n",
    "    \n",
    "    #print('gen_list', gen_list)\n",
    "    \n",
    "    #finalmente agrego el último gen manualmente\n",
    "    s = prueba[indicadores[-1]+1:]\n",
    "    strg = s[0]\n",
    "    strg = strg.replace(\"\\n\",\"\")\n",
    "    #print('strg', s, strg)\n",
    "    gen_list.append(strg)\n",
    "    \n",
    "    return gen_list\n",
    "    "
   ]
  },
  {
   "cell_type": "markdown",
   "metadata": {},
   "source": [
    "# Abre, lee y convierte archivo .txt en lista \n"
   ]
  },
  {
   "cell_type": "code",
   "execution_count": 9,
   "metadata": {},
   "outputs": [],
   "source": [
    "with open('codificante.txt', 'r') as f:\n",
    "    adn = f.readlines()\n"
   ]
  },
  {
   "cell_type": "code",
   "execution_count": 10,
   "metadata": {
    "scrolled": false
   },
   "outputs": [],
   "source": [
    "q = genesis(adn)"
   ]
  },
  {
   "cell_type": "markdown",
   "metadata": {},
   "source": [
    "# Removedor de genes"
   ]
  },
  {
   "cell_type": "code",
   "execution_count": 11,
   "metadata": {},
   "outputs": [],
   "source": [
    "def remove_genes(genes, genoma):\n",
    "    ''' remueve genes de un genoma completo, \n",
    "    regresa el ADN no codificante'''\n",
    "    \n",
    "    for i in range(len(genes)):\n",
    "        if genes[i] in genoma:\n",
    "            genoma = genoma.replace(genes[i],\"\")\n",
    "    return genoma\n",
    "        "
   ]
  },
  {
   "cell_type": "code",
   "execution_count": 12,
   "metadata": {},
   "outputs": [
    {
     "name": "stdout",
     "output_type": "stream",
     "text": [
      "pepexd\n"
     ]
    }
   ],
   "source": [
    "ej = ['hola', 'como', 'estas?']\n",
    "x = 'holapepecomoestas?xd'\n",
    "\n",
    "print(remove_genes(ej, x))"
   ]
  },
  {
   "cell_type": "markdown",
   "metadata": {},
   "source": [
    "## Abre archivo y lo convierte en una unica string"
   ]
  },
  {
   "cell_type": "code",
   "execution_count": 13,
   "metadata": {},
   "outputs": [
    {
     "name": "stdout",
     "output_type": "stream",
     "text": [
      "3704465\n"
     ]
    }
   ],
   "source": [
    "with open('completo.txt', 'r') as f:\n",
    "    file_data = f.readlines()\n",
    "\n",
    "file_data = file_data[1:]\n",
    "#print(file_data[:30])\n",
    "\n",
    "converted_list = []\n",
    "\n",
    "for element in file_data:\n",
    "    converted_list.append(element.strip())\n",
    "\n",
    "#print(converted_list[:5])\n",
    "\n",
    "file_string=''\n",
    "adn = file_string.join(converted_list)\n",
    "\n",
    "print(len(adn))"
   ]
  },
  {
   "cell_type": "code",
   "execution_count": null,
   "metadata": {},
   "outputs": [],
   "source": []
  },
  {
   "cell_type": "code",
   "execution_count": 14,
   "metadata": {},
   "outputs": [],
   "source": [
    "adn1 = remove_genes(q, adn) #NCDS"
   ]
  },
  {
   "cell_type": "markdown",
   "metadata": {},
   "source": [
    "# Espectro Dimensión Fractal"
   ]
  },
  {
   "cell_type": "code",
   "execution_count": 1,
   "metadata": {},
   "outputs": [
    {
     "name": "stderr",
     "output_type": "stream",
     "text": [
      "In C:\\Users\\EQ22\\Anaconda3\\lib\\site-packages\\matplotlib\\mpl-data\\stylelib\\_classic_test.mplstyle: \n",
      "The text.latex.preview rcparam was deprecated in Matplotlib 3.3 and will be removed two minor releases later.\n",
      "In C:\\Users\\EQ22\\Anaconda3\\lib\\site-packages\\matplotlib\\mpl-data\\stylelib\\_classic_test.mplstyle: \n",
      "The mathtext.fallback_to_cm rcparam was deprecated in Matplotlib 3.3 and will be removed two minor releases later.\n",
      "In C:\\Users\\EQ22\\Anaconda3\\lib\\site-packages\\matplotlib\\mpl-data\\stylelib\\_classic_test.mplstyle: Support for setting the 'mathtext.fallback_to_cm' rcParam is deprecated since 3.3 and will be removed two minor releases later; use 'mathtext.fallback : 'cm' instead.\n",
      "In C:\\Users\\EQ22\\Anaconda3\\lib\\site-packages\\matplotlib\\mpl-data\\stylelib\\_classic_test.mplstyle: \n",
      "The validate_bool_maybe_none function was deprecated in Matplotlib 3.3 and will be removed two minor releases later.\n",
      "In C:\\Users\\EQ22\\Anaconda3\\lib\\site-packages\\matplotlib\\mpl-data\\stylelib\\_classic_test.mplstyle: \n",
      "The savefig.jpeg_quality rcparam was deprecated in Matplotlib 3.3 and will be removed two minor releases later.\n",
      "In C:\\Users\\EQ22\\Anaconda3\\lib\\site-packages\\matplotlib\\mpl-data\\stylelib\\_classic_test.mplstyle: \n",
      "The keymap.all_axes rcparam was deprecated in Matplotlib 3.3 and will be removed two minor releases later.\n",
      "In C:\\Users\\EQ22\\Anaconda3\\lib\\site-packages\\matplotlib\\mpl-data\\stylelib\\_classic_test.mplstyle: \n",
      "The animation.avconv_path rcparam was deprecated in Matplotlib 3.3 and will be removed two minor releases later.\n",
      "In C:\\Users\\EQ22\\Anaconda3\\lib\\site-packages\\matplotlib\\mpl-data\\stylelib\\_classic_test.mplstyle: \n",
      "The animation.avconv_args rcparam was deprecated in Matplotlib 3.3 and will be removed two minor releases later.\n"
     ]
    }
   ],
   "source": [
    "from matplotlib import pyplot as plt\n",
    "import math as mt"
   ]
  },
  {
   "cell_type": "code",
   "execution_count": 2,
   "metadata": {},
   "outputs": [],
   "source": [
    "def dim_h(x):\n",
    "    w = -(1/mt.log(2))*(x*mt.log(x) + (1 - x)*mt.log(1 - x)) \n",
    "    return w\n"
   ]
  },
  {
   "cell_type": "code",
   "execution_count": 3,
   "metadata": {},
   "outputs": [],
   "source": [
    "def espectro_f(k, s = 2):\n",
    "    xx = []\n",
    "    yy = []\n",
    "    ta = 1/(s**k)\n",
    "    f = int(1//ta)\n",
    "    x = ta\n",
    "    \n",
    "    for i in range(f):\n",
    "        if x < 1:  \n",
    "            y = dim_h(x)\n",
    "            xx.append(x)\n",
    "            yy.append(y)      \n",
    "        x += ta\n",
    "        \n",
    "    plt.figure(figsize=(7,5.3))\n",
    "    plt.plot(xx, yy, 'ro',color='red', markersize=3 ,label='Fractal Serpinsky')\n",
    "    plt.show()\n",
    "    return "
   ]
  },
  {
   "cell_type": "code",
   "execution_count": 6,
   "metadata": {},
   "outputs": [
    {
     "data": {
      "image/png": "[encoded data removed]",
      "text/plain": [
       "<Figure size 504x381.6 with 1 Axes>"
      ]
     },
     "metadata": {
      "needs_background": "light"
     },
     "output_type": "display_data"
    }
   ],
   "source": [
    "espectro_f(7)"
   ]
  },
  {
   "cell_type": "code",
   "execution_count": 19,
   "metadata": {},
   "outputs": [],
   "source": [
    "import numpy as np"
   ]
  },
  {
   "cell_type": "code",
   "execution_count": 20,
   "metadata": {},
   "outputs": [
    {
     "data": {
      "text/plain": [
       "[<matplotlib.lines.Line2D at 0x22260193f08>]"
      ]
     },
     "execution_count": 20,
     "metadata": {},
     "output_type": "execute_result"
    },
    {
     "data": {
      "image/png": "[encoded data removed]",
      "text/plain": [
       "<Figure size 504x381.6 with 1 Axes>"
      ]
     },
     "metadata": {
      "needs_background": "light"
     },
     "output_type": "display_data"
    }
   ],
   "source": [
    "x = np.arange(0.001,1, 0.01) \n",
    "d = []\n",
    "\n",
    "for i in x:\n",
    "    d.append(-(1/mt.log(2))*(i*mt.log(i) + (1 - i)*mt.log(1 - i)))\n",
    "\n",
    "plt.figure(figsize=(7,5.3))\n",
    "plt.plot(x, d, 'ro',color='black', markersize=3)"
   ]
  },
  {
   "cell_type": "markdown",
   "metadata": {},
   "source": [
    "# Vector de frecuencias "
   ]
  },
  {
   "cell_type": "code",
   "execution_count": 21,
   "metadata": {},
   "outputs": [],
   "source": [
    "adn2 = contador(adn1, 6)"
   ]
  },
  {
   "cell_type": "code",
   "execution_count": 22,
   "metadata": {},
   "outputs": [],
   "source": [
    "vector_NCDS = adn2"
   ]
  },
  {
   "cell_type": "code",
   "execution_count": 23,
   "metadata": {},
   "outputs": [
    {
     "name": "stdout",
     "output_type": "stream",
     "text": [
      "[3294, 1676, 2707, 2261, 1475, 1045, 1032, 677, 2290, 1762]\n"
     ]
    }
   ],
   "source": [
    "print(vector_NCDS[:10])"
   ]
  },
  {
   "cell_type": "code",
   "execution_count": 24,
   "metadata": {},
   "outputs": [],
   "source": [
    "with open('vectores/vector2.txt', 'w') as filehandle:\n",
    "    for num in vector_NCDS:\n",
    "        filehandle.write('%s\\n' % num)"
   ]
  },
  {
   "cell_type": "code",
   "execution_count": 25,
   "metadata": {},
   "outputs": [],
   "source": [
    "x = list(range(len(adn2)))\n"
   ]
  },
  {
   "cell_type": "code",
   "execution_count": 26,
   "metadata": {},
   "outputs": [
    {
     "data": {
      "text/plain": [
       "True"
      ]
     },
     "execution_count": 26,
     "metadata": {},
     "output_type": "execute_result"
    }
   ],
   "source": [
    "len(x) == len(adn2)"
   ]
  },
  {
   "cell_type": "code",
   "execution_count": 27,
   "metadata": {},
   "outputs": [
    {
     "data": {
      "image/png": "[encoded data removed]",
      "text/plain": [
       "<Figure size 864x360 with 1 Axes>"
      ]
     },
     "metadata": {
      "needs_background": "light"
     },
     "output_type": "display_data"
    }
   ],
   "source": [
    "plt.figure(figsize=(12,5))\n",
    "plt.hist(adn2, bins = 1000)\n",
    "plt.xlabel('Apariciones')\n",
    "plt.ylabel('Número de Subsecuencias')\n",
    "plt.show()"
   ]
  },
  {
   "cell_type": "code",
   "execution_count": 28,
   "metadata": {},
   "outputs": [
    {
     "data": {
      "text/plain": [
       "5483"
      ]
     },
     "execution_count": 28,
     "metadata": {},
     "output_type": "execute_result"
    }
   ],
   "source": [
    "y = np.array(adn2)\n",
    "y.max()\n"
   ]
  },
  {
   "cell_type": "code",
   "execution_count": 29,
   "metadata": {},
   "outputs": [],
   "source": [
    "w = y/5483"
   ]
  },
  {
   "cell_type": "markdown",
   "metadata": {},
   "source": [
    "# Vector de frecuencias normalizado NCDS"
   ]
  },
  {
   "cell_type": "code",
   "execution_count": 30,
   "metadata": {},
   "outputs": [
    {
     "data": {
      "text/plain": [
       "Text(0, 0.5, 'Número de Apariciones')"
      ]
     },
     "execution_count": 30,
     "metadata": {},
     "output_type": "execute_result"
    },
    {
     "data": {
      "image/png": "[encoded data removed]",
      "text/plain": [
       "<Figure size 504x381.6 with 1 Axes>"
      ]
     },
     "metadata": {
      "needs_background": "light"
     },
     "output_type": "display_data"
    }
   ],
   "source": [
    "plt.figure(figsize=(7,5.3))\n",
    "plt.plot(x, w, 'ro',color='black', markersize= .7)\n",
    "plt.xlabel('Subsecuencias en orden alfabetico')\n",
    "plt.ylabel('Número de Apariciones')"
   ]
  },
  {
   "cell_type": "code",
   "execution_count": 31,
   "metadata": {},
   "outputs": [
    {
     "data": {
      "text/plain": [
       "Text(0, 0.5, 'Número de Apariciones')"
      ]
     },
     "execution_count": 31,
     "metadata": {},
     "output_type": "execute_result"
    },
    {
     "data": {
      "image/png": "[encoded data removed]",
      "text/plain": [
       "<Figure size 504x381.6 with 1 Axes>"
      ]
     },
     "metadata": {
      "needs_background": "light"
     },
     "output_type": "display_data"
    }
   ],
   "source": [
    "\n",
    "plt.figure(figsize=(7,5.3))\n",
    "plt.bar(x, y,color='b')\n",
    "plt.xlabel('Subsecuencias en orden alfabetico')\n",
    "plt.ylabel('Número de Apariciones')"
   ]
  },
  {
   "cell_type": "code",
   "execution_count": 32,
   "metadata": {},
   "outputs": [
    {
     "data": {
      "text/plain": [
       "Text(0, 0.5, 'Número de Apariciones')"
      ]
     },
     "execution_count": 32,
     "metadata": {},
     "output_type": "execute_result"
    },
    {
     "data": {
      "image/png": "[encoded data removed]",
      "text/plain": [
       "<Figure size 504x381.6 with 1 Axes>"
      ]
     },
     "metadata": {
      "needs_background": "light"
     },
     "output_type": "display_data"
    }
   ],
   "source": [
    "plt.figure(figsize=(7,5.3))\n",
    "plt.plot(x, y, 'ro',color='black', markersize= .7)\n",
    "plt.xlabel('Subsecuencias en orden alfabetico')\n",
    "plt.ylabel('Número de Apariciones')"
   ]
  },
  {
   "cell_type": "code",
   "execution_count": null,
   "metadata": {},
   "outputs": [],
   "source": []
  },
  {
   "cell_type": "code",
   "execution_count": 33,
   "metadata": {},
   "outputs": [],
   "source": [
    "w = y/5483"
   ]
  },
  {
   "cell_type": "code",
   "execution_count": 34,
   "metadata": {},
   "outputs": [
    {
     "data": {
      "text/plain": [
       "numpy.ndarray"
      ]
     },
     "execution_count": 34,
     "metadata": {},
     "output_type": "execute_result"
    }
   ],
   "source": [
    "type(w)"
   ]
  },
  {
   "cell_type": "code",
   "execution_count": 2,
   "metadata": {},
   "outputs": [
    {
     "name": "stderr",
     "output_type": "stream",
     "text": [
      "In C:\\Users\\EQ22\\Anaconda3\\lib\\site-packages\\matplotlib\\mpl-data\\stylelib\\_classic_test.mplstyle: \n",
      "The text.latex.preview rcparam was deprecated in Matplotlib 3.3 and will be removed two minor releases later.\n",
      "In C:\\Users\\EQ22\\Anaconda3\\lib\\site-packages\\matplotlib\\mpl-data\\stylelib\\_classic_test.mplstyle: \n",
      "The mathtext.fallback_to_cm rcparam was deprecated in Matplotlib 3.3 and will be removed two minor releases later.\n",
      "In C:\\Users\\EQ22\\Anaconda3\\lib\\site-packages\\matplotlib\\mpl-data\\stylelib\\_classic_test.mplstyle: Support for setting the 'mathtext.fallback_to_cm' rcParam is deprecated since 3.3 and will be removed two minor releases later; use 'mathtext.fallback : 'cm' instead.\n",
      "In C:\\Users\\EQ22\\Anaconda3\\lib\\site-packages\\matplotlib\\mpl-data\\stylelib\\_classic_test.mplstyle: \n",
      "The validate_bool_maybe_none function was deprecated in Matplotlib 3.3 and will be removed two minor releases later.\n",
      "In C:\\Users\\EQ22\\Anaconda3\\lib\\site-packages\\matplotlib\\mpl-data\\stylelib\\_classic_test.mplstyle: \n",
      "The savefig.jpeg_quality rcparam was deprecated in Matplotlib 3.3 and will be removed two minor releases later.\n",
      "In C:\\Users\\EQ22\\Anaconda3\\lib\\site-packages\\matplotlib\\mpl-data\\stylelib\\_classic_test.mplstyle: \n",
      "The keymap.all_axes rcparam was deprecated in Matplotlib 3.3 and will be removed two minor releases later.\n",
      "In C:\\Users\\EQ22\\Anaconda3\\lib\\site-packages\\matplotlib\\mpl-data\\stylelib\\_classic_test.mplstyle: \n",
      "The animation.avconv_path rcparam was deprecated in Matplotlib 3.3 and will be removed two minor releases later.\n",
      "In C:\\Users\\EQ22\\Anaconda3\\lib\\site-packages\\matplotlib\\mpl-data\\stylelib\\_classic_test.mplstyle: \n",
      "The animation.avconv_args rcparam was deprecated in Matplotlib 3.3 and will be removed two minor releases later.\n"
     ]
    }
   ],
   "source": [
    "import matplotlib.pyplot as plt\n",
    "import numpy as np \n",
    "import time\n",
    "import pandas as pd"
   ]
  },
  {
   "cell_type": "code",
   "execution_count": 36,
   "metadata": {},
   "outputs": [],
   "source": [
    "def conglomerar(lista):\n",
    "    lista2 =[]\n",
    "    gen = ''\n",
    "    control = 0\n",
    "    i = 0\n",
    "    base10 = '0123456789'\n",
    "    for j in lista:\n",
    "        i += 1\n",
    "        if j in base10:\n",
    "            gen += j  \n",
    "            control = 1\n",
    "            if i != len(lista): continue\n",
    "        if control == 1:\n",
    "            lista2.append(np.float32(gen))\n",
    "            gen = ''\n",
    "            control = 0\n",
    "    return lista2\n",
    "\n",
    "def eliminar0(L):\n",
    "    LISTA =[]\n",
    "    for digito in L:\n",
    "        if digito != 0:\n",
    "            LISTA.append(digito)\n",
    "    return LISTA\n",
    "\n",
    "def MT(probabilidad_general):\n",
    "    zeta = []\n",
    "    kappa = []\n",
    "    for q in Q:   \n",
    "        z = [i**q for i in probabilidad_general]\n",
    "        k = [pow(j,q)*np.log(j) for j in probabilidad_general]\n",
    "        #print(z,q)\n",
    "        zeta.append(sum(z))\n",
    "        kappa.append(sum(k))\n",
    "    return zeta, kappa\n",
    "\n",
    "def MT2(zeta, kappa):\n",
    "    Tau = []\n",
    "    alpha = []\n",
    "    for x,y in zip(zeta,kappa):\n",
    "        t0 = (-np.log(x))/(num_digitos*np.log(2))\n",
    "        a0 = (-y)/(num_digitos*x*np.log(2))\n",
    "        Tau.append(t0)\n",
    "        alpha.append(a0)\n",
    "    return Tau, alpha\n",
    "\n",
    "\n",
    "def capacidad_calorifica(Tau):\n",
    "    Cq = []\n",
    "    for index in np.arange(0,len(Tau),1):\n",
    "        if index == 0:\n",
    "            Cq.append(2*Tau[index] - Tau[index+1])\n",
    "        if index < len(Tau)-2:\n",
    "            Cq.append(2*Tau[index] - Tau[index+1] - Tau[index-1])\n",
    "        if index == len(Tau)-2:\n",
    "            Cq.append(2*Tau[index] - Tau[index-1])\n",
    "    return(Cq)\n",
    "\n",
    "def crear_archivo(nombre_archivo):\n",
    "    frecuencia_optimizada = conglomerar(frecuencia)\n",
    "    Probabilidad = [prob/sum(frecuencia_optimizada) for prob in frecuencia_optimizada]\n",
    "    prob = eliminar0(Probabilidad)\n",
    "    probabilidad = np.array(prob) #, dtype='float128' )\n",
    "    Z, K = MT(probabilidad)\n",
    "    Tau, alpha = MT2(Z, K)\n",
    "    Falpha = [(q*a)-t for q,a,t in zip(Q,alpha,Tau)]\n",
    "    Cq = capacidad_calorifica(Tau)\n",
    "    d = {\"Q\": Q, \"Tau\": Tau, \"Alpha\": alpha, \"Falpha\": Falpha, \"Cq\": Cq}\n",
    "    global df\n",
    "    df=pd.DataFrame(data=d)\n",
    "    nombre_archivo = nombre_archivo\n",
    "    df.to_csv(nombre_archivo)\n",
    "    print(\"archivo guardado como\", nombre_archivo)"
   ]
  },
  {
   "cell_type": "markdown",
   "metadata": {},
   "source": [
    "# Medición espectros"
   ]
  },
  {
   "cell_type": "markdown",
   "metadata": {},
   "source": [
    "Abre CDS"
   ]
  },
  {
   "cell_type": "code",
   "execution_count": 215,
   "metadata": {},
   "outputs": [],
   "source": [
    "######################################################################################\n",
    "with open('Gen/Halobellus_rufus_CDS.txt', 'r') as f:\n",
    "    CDSs = f.readlines()"
   ]
  },
  {
   "cell_type": "markdown",
   "metadata": {},
   "source": [
    "Convierte en lista de genes"
   ]
  },
  {
   "cell_type": "code",
   "execution_count": 216,
   "metadata": {},
   "outputs": [
    {
     "name": "stdout",
     "output_type": "stream",
     "text": [
      "ATGACACGGCC\n"
     ]
    }
   ],
   "source": [
    "q = genesis(CDSs) #convierte a lista de genes\n",
    "\n",
    "v = ''\n",
    "CDS = v.join(q) #uno lista de genes para obtener secuencia CDS\n",
    "print(CDS[:11])"
   ]
  },
  {
   "cell_type": "markdown",
   "metadata": {},
   "source": [
    "Abre genoma completo"
   ]
  },
  {
   "cell_type": "code",
   "execution_count": 217,
   "metadata": {},
   "outputs": [
    {
     "name": "stdout",
     "output_type": "stream",
     "text": [
      "3858699\n"
     ]
    }
   ],
   "source": [
    "#####################################################################################\n",
    "with open('Gen/Halobellus_rufus_Genoma.txt', 'r') as f:\n",
    "    file_data = f.readlines()\n",
    "\n",
    "file_data = file_data[1:]\n",
    "#print(file_data[:30])\n",
    "\n",
    "converted_list = []\n",
    "\n",
    "for element in file_data:\n",
    "    converted_list.append(element.strip())\n",
    "\n",
    "#print(converted_list[:5])\n",
    "\n",
    "file_string=''\n",
    "adn = file_string.join(converted_list)\n",
    "\n",
    "print(len(adn))"
   ]
  },
  {
   "cell_type": "markdown",
   "metadata": {},
   "source": [
    "Remuevo genes del genoma completo obteniendo NCDS"
   ]
  },
  {
   "cell_type": "code",
   "execution_count": 218,
   "metadata": {},
   "outputs": [
    {
     "name": "stdout",
     "output_type": "stream",
     "text": [
      "CTGCG\n"
     ]
    }
   ],
   "source": [
    "NCDS = remove_genes(q, adn) #NCDS\n",
    "print(NCDS[:5])"
   ]
  },
  {
   "cell_type": "markdown",
   "metadata": {},
   "source": [
    "## Vector frecuencias"
   ]
  },
  {
   "cell_type": "code",
   "execution_count": 219,
   "metadata": {},
   "outputs": [],
   "source": [
    "def crear_subsecuencias(cadena, longitud):\n",
    "    subsecuencias = []\n",
    "    for i in range(0, len(cadena)-longitud+1):\n",
    "        subsecuencias.append(cadena[i:i+longitud])\n",
    "    return subsecuencias"
   ]
  },
  {
   "cell_type": "code",
   "execution_count": 220,
   "metadata": {},
   "outputs": [
    {
     "name": "stdout",
     "output_type": "stream",
     "text": [
      "['ATGACA', 'TGACAC', 'GACACG', 'ACACGG', 'CACGGC', 'ACGGCC', 'CGGCCC']\n"
     ]
    }
   ],
   "source": [
    "sub_CDS = crear_subsecuencias(CDS, 6)\n",
    "print(sub_CDS[:7])"
   ]
  },
  {
   "cell_type": "code",
   "execution_count": 221,
   "metadata": {},
   "outputs": [
    {
     "name": "stdout",
     "output_type": "stream",
     "text": [
      "['CTGCGC', 'TGCGCG', 'GCGCGA', 'CGCGAC', 'GCGACG', 'CGACGT', 'GACGTC']\n"
     ]
    }
   ],
   "source": [
    "sub_NCDS = crear_subsecuencias(NCDS, 6)\n",
    "print(sub_NCDS[:7])"
   ]
  },
  {
   "cell_type": "code",
   "execution_count": 222,
   "metadata": {},
   "outputs": [],
   "source": [
    "#CDS\n",
    "unicos = set(sub_CDS)\n",
    "unicos = sorted(unicos)\n",
    "sub_CDS = sorted(sub_CDS)\n",
    "dic_frecuencias_2 = {}"
   ]
  },
  {
   "cell_type": "code",
   "execution_count": 223,
   "metadata": {},
   "outputs": [],
   "source": [
    "def frecuencia_optimizada(lista_subsecuencias, set_unicos):\n",
    "    i = 1\n",
    "    contador = 1\n",
    "    for subseq in set_unicos:\n",
    "        if subseq == set_unicos[-1]:\n",
    "            dic_frecuencias_2[subseq] = lista_subsecuencias[i-1:].count(subseq)\n",
    "        else:\n",
    "            while lista_subsecuencias[i] == lista_subsecuencias[i-1]:\n",
    "                contador += 1\n",
    "                i += 1\n",
    "            else:\n",
    "                dic_frecuencias_2[subseq] = contador\n",
    "                i += 1\n",
    "                contador = 1"
   ]
  },
  {
   "cell_type": "code",
   "execution_count": 224,
   "metadata": {},
   "outputs": [
    {
     "name": "stdout",
     "output_type": "stream",
     "text": [
      "4096 [80, 191, 169, 88, 186, 254, 424, 117, 209, 203]\n"
     ]
    }
   ],
   "source": [
    "frecuencia_optimizada(sub_CDS, unicos)\n",
    "f_CDS = list(dic_frecuencias_2.values())\n",
    "print(len(f_CDS), f_CDS[:10])"
   ]
  },
  {
   "cell_type": "code",
   "execution_count": 225,
   "metadata": {},
   "outputs": [],
   "source": [
    "#NCDS\n",
    "unicos = set(sub_NCDS)\n",
    "unicos = sorted(unicos)\n",
    "sub_NCDS = sorted(sub_NCDS)\n",
    "dic_frecuencias_2 = {}"
   ]
  },
  {
   "cell_type": "code",
   "execution_count": 227,
   "metadata": {},
   "outputs": [
    {
     "name": "stdout",
     "output_type": "stream",
     "text": [
      "4096 [80, 80, 80, 80, 80, 80, 80, 80, 80, 80, 8, 1, 1, 1, 1, 1, 1, 1, 1]\n"
     ]
    }
   ],
   "source": [
    "frecuencia_optimizada(sub_NCDS, unicos)\n",
    "f_NCDS = list(dic_frecuencias_2.values())\n",
    "print(len(f_CDS),f_NCDS[:19])"
   ]
  },
  {
   "cell_type": "markdown",
   "metadata": {},
   "source": [
    "Guardo vectores sin normalizar en archivos .txt"
   ]
  },
  {
   "cell_type": "code",
   "execution_count": 228,
   "metadata": {},
   "outputs": [],
   "source": [
    "#################################################################################### \n",
    "with open('vectores/vector_cds_Halobellus_rufus.txt', 'w') as filehandle:\n",
    "    for num in f_CDS:\n",
    "        filehandle.write('%s\\n' % num)"
   ]
  },
  {
   "cell_type": "code",
   "execution_count": 229,
   "metadata": {},
   "outputs": [],
   "source": [
    "####################################################################################\n",
    "with open('vectores/vector_ncds_Halobellus_rufus.txt', 'w') as filehandle:\n",
    "    for num in f_NCDS:\n",
    "        filehandle.write('%s\\n' % num)"
   ]
  },
  {
   "cell_type": "markdown",
   "metadata": {},
   "source": [
    "Guardo primer DF CDS"
   ]
  },
  {
   "cell_type": "code",
   "execution_count": 230,
   "metadata": {},
   "outputs": [
    {
     "name": "stdout",
     "output_type": "stream",
     "text": [
      "16763\n"
     ]
    }
   ],
   "source": [
    "####################################################################################\n",
    "cadena = open('vectores/vector_cds_Halobellus_rufus.txt','r') ##CDS\n",
    "frecuencia = list(cadena.read())\n",
    "print(len(frecuencia))\n",
    "Q = np.arange(-30,31,0.1)\n",
    "num_digitos = 6"
   ]
  },
  {
   "cell_type": "code",
   "execution_count": 231,
   "metadata": {},
   "outputs": [
    {
     "name": "stdout",
     "output_type": "stream",
     "text": [
      "archivo guardado como Pandas_csv/panda_Halobellus_rufus.csv\n"
     ]
    }
   ],
   "source": [
    "###################################################################################\n",
    "crear_archivo(\"Pandas_csv/panda_Halobellus_rufus.csv\") ##CDS"
   ]
  },
  {
   "cell_type": "markdown",
   "metadata": {},
   "source": [
    "Guardo segundo df NCDS"
   ]
  },
  {
   "cell_type": "code",
   "execution_count": 232,
   "metadata": {},
   "outputs": [
    {
     "name": "stdout",
     "output_type": "stream",
     "text": [
      "18532\n"
     ]
    }
   ],
   "source": [
    "##################################################################################\n",
    "cadena2 = open('vectores/vector_ncds_Halobellus_rufus.txt','r') ##NCDS\n",
    "frecuencia = list(cadena2.read())\n",
    "print(len(frecuencia))\n",
    "Q = np.arange(-30,31,0.1)\n",
    "num_digitos = 6"
   ]
  },
  {
   "cell_type": "code",
   "execution_count": 233,
   "metadata": {},
   "outputs": [
    {
     "name": "stdout",
     "output_type": "stream",
     "text": [
      "archivo guardado como Pandas_csv/panda_Halobellus_rufus_NCDS.csv\n"
     ]
    }
   ],
   "source": [
    "###################################################################################\n",
    "crear_archivo(\"Pandas_csv/panda_Halobellus_rufus_NCDS.csv\") ##NCDS"
   ]
  },
  {
   "cell_type": "code",
   "execution_count": 6,
   "metadata": {},
   "outputs": [],
   "source": [
    "from sklearn import preprocessing"
   ]
  },
  {
   "cell_type": "markdown",
   "metadata": {},
   "source": [
    "## graficar"
   ]
  },
  {
   "cell_type": "markdown",
   "metadata": {},
   "source": [
    "CDS"
   ]
  },
  {
   "cell_type": "code",
   "execution_count": 32,
   "metadata": {},
   "outputs": [
    {
     "data": {
      "text/html": [
       "<div>\n",
       "<style scoped>\n",
       "    .dataframe tbody tr th:only-of-type {\n",
       "        vertical-align: middle;\n",
       "    }\n",
       "\n",
       "    .dataframe tbody tr th {\n",
       "        vertical-align: top;\n",
       "    }\n",
       "\n",
       "    .dataframe thead th {\n",
       "        text-align: right;\n",
       "    }\n",
       "</style>\n",
       "<table border=\"1\" class=\"dataframe\">\n",
       "  <thead>\n",
       "    <tr style=\"text-align: right;\">\n",
       "      <th></th>\n",
       "      <th>Unnamed: 0</th>\n",
       "      <th>Q</th>\n",
       "      <th>Tau</th>\n",
       "      <th>Alpha</th>\n",
       "      <th>Falpha</th>\n",
       "      <th>Cq</th>\n",
       "    </tr>\n",
       "  </thead>\n",
       "  <tbody>\n",
       "    <tr>\n",
       "      <td>count</td>\n",
       "      <td>610.000000</td>\n",
       "      <td>610.000000</td>\n",
       "      <td>610.000000</td>\n",
       "      <td>610.000000</td>\n",
       "      <td>610.000000</td>\n",
       "      <td>610.000000</td>\n",
       "    </tr>\n",
       "    <tr>\n",
       "      <td>mean</td>\n",
       "      <td>304.500000</td>\n",
       "      <td>0.450000</td>\n",
       "      <td>-7.886558</td>\n",
       "      <td>2.131305</td>\n",
       "      <td>0.535694</td>\n",
       "      <td>-0.266493</td>\n",
       "    </tr>\n",
       "    <tr>\n",
       "      <td>std</td>\n",
       "      <td>176.236111</td>\n",
       "      <td>17.623611</td>\n",
       "      <td>37.760802</td>\n",
       "      <td>0.512469</td>\n",
       "      <td>0.548904</td>\n",
       "      <td>6.516848</td>\n",
       "    </tr>\n",
       "    <tr>\n",
       "      <td>min</td>\n",
       "      <td>0.000000</td>\n",
       "      <td>-30.000000</td>\n",
       "      <td>-81.066418</td>\n",
       "      <td>1.581206</td>\n",
       "      <td>0.128176</td>\n",
       "      <td>-130.065418</td>\n",
       "    </tr>\n",
       "    <tr>\n",
       "      <td>25%</td>\n",
       "      <td>152.250000</td>\n",
       "      <td>-14.775000</td>\n",
       "      <td>-40.003982</td>\n",
       "      <td>1.593588</td>\n",
       "      <td>0.159748</td>\n",
       "      <td>0.000003</td>\n",
       "    </tr>\n",
       "    <tr>\n",
       "      <td>50%</td>\n",
       "      <td>304.500000</td>\n",
       "      <td>0.450000</td>\n",
       "      <td>-1.087285</td>\n",
       "      <td>2.004654</td>\n",
       "      <td>0.254767</td>\n",
       "      <td>0.000014</td>\n",
       "    </tr>\n",
       "    <tr>\n",
       "      <td>75%</td>\n",
       "      <td>456.750000</td>\n",
       "      <td>15.675000</td>\n",
       "      <td>24.597146</td>\n",
       "      <td>2.695234</td>\n",
       "      <td>0.700146</td>\n",
       "      <td>0.000131</td>\n",
       "    </tr>\n",
       "    <tr>\n",
       "      <td>max</td>\n",
       "      <td>609.000000</td>\n",
       "      <td>30.900000</td>\n",
       "      <td>48.729206</td>\n",
       "      <td>2.697941</td>\n",
       "      <td>2.000000</td>\n",
       "      <td>48.729208</td>\n",
       "    </tr>\n",
       "  </tbody>\n",
       "</table>\n",
       "</div>"
      ],
      "text/plain": [
       "       Unnamed: 0           Q         Tau       Alpha      Falpha          Cq\n",
       "count  610.000000  610.000000  610.000000  610.000000  610.000000  610.000000\n",
       "mean   304.500000    0.450000   -7.886558    2.131305    0.535694   -0.266493\n",
       "std    176.236111   17.623611   37.760802    0.512469    0.548904    6.516848\n",
       "min      0.000000  -30.000000  -81.066418    1.581206    0.128176 -130.065418\n",
       "25%    152.250000  -14.775000  -40.003982    1.593588    0.159748    0.000003\n",
       "50%    304.500000    0.450000   -1.087285    2.004654    0.254767    0.000014\n",
       "75%    456.750000   15.675000   24.597146    2.695234    0.700146    0.000131\n",
       "max    609.000000   30.900000   48.729206    2.697941    2.000000   48.729208"
      ]
     },
     "execution_count": 32,
     "metadata": {},
     "output_type": "execute_result"
    }
   ],
   "source": [
    "##################################################################\n",
    "df2 = pd.read_csv(\"Pandas_csv/panda_Vibro.csv\")\n",
    "df2.describe()"
   ]
  },
  {
   "cell_type": "code",
   "execution_count": 33,
   "metadata": {},
   "outputs": [],
   "source": [
    "def graficar(p):\n",
    "    #eliminar datos atípicos\n",
    "    p.drop(p[p.Cq < -20].index, inplace=True)\n",
    "    p.drop(p[p.Cq > 20].index, inplace=True)\n",
    "    #normalizar\n",
    "    x = p[[\"Cq\"]]\n",
    "    scaler = preprocessing.MinMaxScaler()\n",
    "    x_norm = scaler.fit_transform(x)\n",
    "    p.Cq = x_norm\n",
    "    #graficar\n",
    "    return p"
   ]
  },
  {
   "cell_type": "code",
   "execution_count": 34,
   "metadata": {},
   "outputs": [
    {
     "data": {
      "image/png": "[encoded data removed]",
      "text/plain": [
       "<Figure size 1008x504 with 1 Axes>"
      ]
     },
     "metadata": {
      "needs_background": "light"
     },
     "output_type": "display_data"
    }
   ],
   "source": [
    "p2 = graficar(df2)\n",
    "ax = plt.gca()\n",
    "\n",
    "#p1.plot(x=\"Alpha\", y=\"Falpha\", kind=\"line\", figsize=(14,7), ax = ax, label = \"Homo_sapiens.GRCh38.dna.chromosome.Y(k=6)\") \n",
    "p2.plot(x=\"Alpha\", y=\"Falpha\", kind=\"line\", figsize=(14,7), color='b', ax = ax, label = \"Halobellus rufus CDS(k=6)\")\n",
    "plt.axis([1, 4,0,2.1])\n",
    "\n",
    "plt.show()"
   ]
  },
  {
   "cell_type": "markdown",
   "metadata": {},
   "source": [
    "NCDS"
   ]
  },
  {
   "cell_type": "code",
   "execution_count": 35,
   "metadata": {},
   "outputs": [
    {
     "data": {
      "text/html": [
       "<div>\n",
       "<style scoped>\n",
       "    .dataframe tbody tr th:only-of-type {\n",
       "        vertical-align: middle;\n",
       "    }\n",
       "\n",
       "    .dataframe tbody tr th {\n",
       "        vertical-align: top;\n",
       "    }\n",
       "\n",
       "    .dataframe thead th {\n",
       "        text-align: right;\n",
       "    }\n",
       "</style>\n",
       "<table border=\"1\" class=\"dataframe\">\n",
       "  <thead>\n",
       "    <tr style=\"text-align: right;\">\n",
       "      <th></th>\n",
       "      <th>Unnamed: 0</th>\n",
       "      <th>Q</th>\n",
       "      <th>Tau</th>\n",
       "      <th>Alpha</th>\n",
       "      <th>Falpha</th>\n",
       "      <th>Cq</th>\n",
       "    </tr>\n",
       "  </thead>\n",
       "  <tbody>\n",
       "    <tr>\n",
       "      <td>count</td>\n",
       "      <td>610.000000</td>\n",
       "      <td>610.000000</td>\n",
       "      <td>610.000000</td>\n",
       "      <td>610.000000</td>\n",
       "      <td>610.000000</td>\n",
       "      <td>6.100000e+02</td>\n",
       "    </tr>\n",
       "    <tr>\n",
       "      <td>mean</td>\n",
       "      <td>304.500000</td>\n",
       "      <td>0.450000</td>\n",
       "      <td>-14.732652</td>\n",
       "      <td>2.557784</td>\n",
       "      <td>0.834501</td>\n",
       "      <td>-3.536796e-01</td>\n",
       "    </tr>\n",
       "    <tr>\n",
       "      <td>std</td>\n",
       "      <td>176.236111</td>\n",
       "      <td>17.623611</td>\n",
       "      <td>45.876204</td>\n",
       "      <td>0.960356</td>\n",
       "      <td>0.485494</td>\n",
       "      <td>7.927742e+00</td>\n",
       "    </tr>\n",
       "    <tr>\n",
       "      <td>min</td>\n",
       "      <td>0.000000</td>\n",
       "      <td>-30.000000</td>\n",
       "      <td>-107.616649</td>\n",
       "      <td>1.560901</td>\n",
       "      <td>0.079299</td>\n",
       "      <td>-1.561244e+02</td>\n",
       "    </tr>\n",
       "    <tr>\n",
       "      <td>25%</td>\n",
       "      <td>152.250000</td>\n",
       "      <td>-14.775000</td>\n",
       "      <td>-53.540422</td>\n",
       "      <td>1.572934</td>\n",
       "      <td>0.325629</td>\n",
       "      <td>5.357474e-10</td>\n",
       "    </tr>\n",
       "    <tr>\n",
       "      <td>50%</td>\n",
       "      <td>304.500000</td>\n",
       "      <td>0.450000</td>\n",
       "      <td>-1.088640</td>\n",
       "      <td>2.008521</td>\n",
       "      <td>1.062507</td>\n",
       "      <td>4.569542e-06</td>\n",
       "    </tr>\n",
       "    <tr>\n",
       "      <td>75%</td>\n",
       "      <td>456.750000</td>\n",
       "      <td>15.675000</td>\n",
       "      <td>24.330103</td>\n",
       "      <td>3.551805</td>\n",
       "      <td>1.062578</td>\n",
       "      <td>4.903863e-05</td>\n",
       "    </tr>\n",
       "    <tr>\n",
       "      <td>max</td>\n",
       "      <td>609.000000</td>\n",
       "      <td>30.900000</td>\n",
       "      <td>48.152529</td>\n",
       "      <td>3.551805</td>\n",
       "      <td>2.008251</td>\n",
       "      <td>4.815253e+01</td>\n",
       "    </tr>\n",
       "  </tbody>\n",
       "</table>\n",
       "</div>"
      ],
      "text/plain": [
       "       Unnamed: 0           Q         Tau       Alpha      Falpha  \\\n",
       "count  610.000000  610.000000  610.000000  610.000000  610.000000   \n",
       "mean   304.500000    0.450000  -14.732652    2.557784    0.834501   \n",
       "std    176.236111   17.623611   45.876204    0.960356    0.485494   \n",
       "min      0.000000  -30.000000 -107.616649    1.560901    0.079299   \n",
       "25%    152.250000  -14.775000  -53.540422    1.572934    0.325629   \n",
       "50%    304.500000    0.450000   -1.088640    2.008521    1.062507   \n",
       "75%    456.750000   15.675000   24.330103    3.551805    1.062578   \n",
       "max    609.000000   30.900000   48.152529    3.551805    2.008251   \n",
       "\n",
       "                 Cq  \n",
       "count  6.100000e+02  \n",
       "mean  -3.536796e-01  \n",
       "std    7.927742e+00  \n",
       "min   -1.561244e+02  \n",
       "25%    5.357474e-10  \n",
       "50%    4.569542e-06  \n",
       "75%    4.903863e-05  \n",
       "max    4.815253e+01  "
      ]
     },
     "execution_count": 35,
     "metadata": {},
     "output_type": "execute_result"
    }
   ],
   "source": [
    "###################################################################33\n",
    "df22 = pd.read_csv(\"Pandas_csv/panda_Vibro_NCDS.csv\")\n",
    "df22.describe()"
   ]
  },
  {
   "cell_type": "code",
   "execution_count": 36,
   "metadata": {},
   "outputs": [
    {
     "data": {
      "image/png": "[encoded data removed]",
      "text/plain": [
       "<Figure size 1008x504 with 1 Axes>"
      ]
     },
     "metadata": {
      "needs_background": "light"
     },
     "output_type": "display_data"
    }
   ],
   "source": [
    "p22 = graficar(df22)\n",
    "ax = plt.gca()\n",
    "\n",
    "#p1.plot(x=\"Alpha\", y=\"Falpha\", kind=\"line\", figsize=(14,7), ax = ax, label = \"Homo_sapiens.GRCh38.dna.chromosome.Y(k=6)\") \n",
    "p22.plot(x=\"Alpha\", y=\"Falpha\", kind=\"line\", figsize=(14,7), color='r', ax = ax, label = \"Halobellus rufus NCDS(k=6)\")\n",
    "plt.axis([1, 4,0,2.3])\n",
    "\n",
    "plt.show()"
   ]
  },
  {
   "cell_type": "markdown",
   "metadata": {},
   "source": [
    "### Diferencia de alphas"
   ]
  },
  {
   "cell_type": "code",
   "execution_count": 37,
   "metadata": {},
   "outputs": [
    {
     "name": "stdout",
     "output_type": "stream",
     "text": [
      "Alpha    1.116698\n",
      "dtype: float64\n"
     ]
    }
   ],
   "source": [
    "alfa_cds_range = df2[['Alpha']].max() - df2[['Alpha']].min()\n",
    "print(alfa_cds_range)"
   ]
  },
  {
   "cell_type": "code",
   "execution_count": 38,
   "metadata": {},
   "outputs": [
    {
     "name": "stdout",
     "output_type": "stream",
     "text": [
      "Alpha    1.990883\n",
      "dtype: float64\n"
     ]
    }
   ],
   "source": [
    "alfa_Ncds_range = df22[['Alpha']].max() - df22[['Alpha']].min()\n",
    "print(alfa_Ncds_range)"
   ]
  },
  {
   "cell_type": "code",
   "execution_count": 39,
   "metadata": {},
   "outputs": [
    {
     "name": "stdout",
     "output_type": "stream",
     "text": [
      "Alpha    0.874185\n",
      "dtype: float64\n"
     ]
    }
   ],
   "source": [
    "diferencia_de_alphas = alfa_Ncds_range - alfa_cds_range\n",
    "print(diferencia_de_alphas)"
   ]
  },
  {
   "cell_type": "code",
   "execution_count": 40,
   "metadata": {},
   "outputs": [
    {
     "data": {
      "image/png": "[encoded data removed]",
      "text/plain": [
       "<Figure size 1008x504 with 1 Axes>"
      ]
     },
     "metadata": {
      "needs_background": "light"
     },
     "output_type": "display_data"
    }
   ],
   "source": [
    "#p1.plot(x=\"Alpha\", y=\"Falpha\", kind=\"line\", figsize=(14,7), ax = ax, label = \"Homo_sapiens.GRCh38.dna.chromosome.Y(k=6)\") \n",
    "p22 = graficar(df22)\n",
    "p2 = graficar(df2)\n",
    "ax = plt.gca()\n",
    "\n",
    "p2.plot(x=\"Alpha\", y=\"Falpha\", kind=\"line\", figsize=(14,7), color='b', ax = ax, label = \"Halobellus rufus CDS(k=6)\")\n",
    "\n",
    "\n",
    "p22.plot(x=\"Alpha\", y=\"Falpha\", kind=\"line\", figsize=(14,7), color='r', ax = ax, label = \"Halobellus rufus NCDS(k=6)\")\n",
    "plt.axis([1, 4,0,2.3])\n",
    "\n",
    "plt.show()"
   ]
  },
  {
   "cell_type": "code",
   "execution_count": null,
   "metadata": {},
   "outputs": [],
   "source": []
  }
 ],
 "metadata": {
  "kernelspec": {
   "display_name": "Python 3",
   "language": "python",
   "name": "python3"
  },
  "language_info": {
   "codemirror_mode": {
    "name": "ipython",
    "version": 3
   },
   "file_extension": ".py",
   "mimetype": "text/x-python",
   "name": "python",
   "nbconvert_exporter": "python",
   "pygments_lexer": "ipython3",
   "version": "3.8.8"
  }
 },
 "nbformat": 4,
 "nbformat_minor": 2
}
