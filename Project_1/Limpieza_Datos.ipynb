{
 "cells": [
  {
   "cell_type": "markdown",
   "id": "014d2202",
   "metadata": {},
   "source": [
    "# Lectura de Datos"
   ]
  },
  {
   "cell_type": "code",
   "execution_count": 1,
   "id": "0c77a344",
   "metadata": {},
   "outputs": [],
   "source": [
    "# Importar librerías\n",
    "import pandas\n",
    "import numpy as np\n",
    "import matplotlib.pyplot as plt\n",
    "import datetime"
   ]
  },
  {
   "cell_type": "code",
   "execution_count": 8,
   "id": "b154a932",
   "metadata": {},
   "outputs": [
    {
     "name": "stderr",
     "output_type": "stream",
     "text": [
      "C:\\Users\\Alex\\anaconda3\\lib\\site-packages\\IPython\\core\\interactiveshell.py:3165: DtypeWarning: Columns (3) have mixed types.Specify dtype option on import or set low_memory=False.\n",
      "  has_raised = await self.run_ast_nodes(code_ast.body, cell_name,\n"
     ]
    }
   ],
   "source": [
    "# Lectura de los datos\n",
    "data = pandas.read_csv(\"./IMDb_movies/IMDb movies.csv\")\n"
   ]
  },
  {
   "cell_type": "markdown",
   "id": "83ac604a",
   "metadata": {},
   "source": [
    "# Limpieza y nuevas variables"
   ]
  },
  {
   "cell_type": "code",
   "execution_count": 9,
   "id": "2e3fa209",
   "metadata": {},
   "outputs": [],
   "source": [
    "# Limpieza de Género. Hace dummies para cada género distinto. \n",
    "generos = []\n",
    "for j in data['genre'].dropna().str.rsplit(', '):\n",
    "    for i in j:\n",
    "        if i not in generos:\n",
    "            generos.append(i)\n",
    "\n",
    "generos_names = [\"{}{}\".format(i,\"_Genre\") for i in generos]\n",
    "\n",
    "aux = []\n",
    "for i in range(len(generos)):\n",
    "    aux.append(pandas.Series.tolist(data['genre'].str.contains(generos[i], regex = False)))\n",
    "\n",
    "Genres = pandas.DataFrame.transpose(pandas.DataFrame(aux, index = generos))\n",
    "\n",
    "Genres.columns = generos_names"
   ]
  },
  {
   "cell_type": "code",
   "execution_count": 10,
   "id": "63d927cd",
   "metadata": {},
   "outputs": [],
   "source": [
    "# Limpieza de Lenguaje. Hace dummies para cada lenguaje distinto. \n",
    "# Faltaría hacer una categoría de otros para reducir la cantidad de variables.\n",
    "lenguaje = []\n",
    "for j in data['language'].dropna().str.rsplit(', '):\n",
    "    for i in j:\n",
    "        if i not in lenguaje:\n",
    "            lenguaje.append(i)\n",
    "\n",
    "lenguaje_names = [\"{}{}\".format(i,\"_Language\") for i in lenguaje]\n",
    "\n",
    "aux = []\n",
    "for i in range(len(lenguaje)):\n",
    "    aux.append(pandas.Series.tolist(data['language'].str.contains(lenguaje[i], regex = False)))\n",
    "\n",
    "Lenguajes = pandas.DataFrame.transpose(pandas.DataFrame(aux, index = lenguaje))\n",
    "Lenguajes.columns = lenguaje_names"
   ]
  },
  {
   "cell_type": "code",
   "execution_count": 11,
   "id": "0b333bf4",
   "metadata": {},
   "outputs": [],
   "source": [
    "# Limpieza de País. Hace dummies para cada pais distinto. \n",
    "# Faltaría hacer una categoría de otros para reducir la cantidad de variables.\n",
    "pais = []\n",
    "for j in data['country'].dropna().str.rsplit(', '):\n",
    "    for i in j:\n",
    "        if i not in pais:\n",
    "            pais.append(i)\n",
    "\n",
    "pais_names = [\"{}{}\".format(i,\"_Country\") for i in pais]\n",
    "\n",
    "aux = []\n",
    "for i in range(len(pais)):\n",
    "    aux.append(pandas.Series.tolist(data['country'].str.contains(pais[i], regex = False)))\n",
    "\n",
    "Paises = pandas.DataFrame.transpose(pandas.DataFrame(aux, index = pais))\n",
    "Paises.columns = pais_names"
   ]
  },
  {
   "cell_type": "code",
   "execution_count": 12,
   "id": "722a7473",
   "metadata": {},
   "outputs": [],
   "source": [
    "# Unir los dataframes, para que incluya todas las de generos distintos (los dummies)\n",
    "data = pandas.concat([data, Genres], axis=1)\n",
    "data = pandas.concat([data, Lenguajes], axis=1)\n",
    "data = pandas.concat([data, Paises], axis=1)\n",
    "# Quitamos todas las observaciones con NAs\n",
    "data = pandas.DataFrame.dropna(data)"
   ]
  },
  {
   "cell_type": "code",
   "execution_count": 13,
   "id": "e1b2cfbb",
   "metadata": {},
   "outputs": [],
   "source": [
    "# Categóricas\n",
    "# Año\n",
    "data[\"year\"] = data[\"year\"].astype('category').cat.codes\n",
    "\n",
    "# Production Company\n",
    "data[\"production_company\"] = data[\"production_company\"].astype('category').cat.codes\n",
    "data.loc[data['production_company'].isin((data['production_company'].value_counts() \\\n",
    "                                          [data['production_company'].value_counts() < 35]).index), \\\n",
    "                                          'production_company'] = 0\n",
    "\n",
    "# Director\n",
    "data[\"director\"] = data[\"director\"].astype('category').cat.codes\n",
    "data.loc[data['director'].isin((data['director'].value_counts() \\\n",
    "                                [data['director'].value_counts() < 5]).index), 'director'] = 0\n",
    "\n",
    "# Writer\n",
    "data[\"writer\"] = data[\"writer\"].astype('category').cat.codes\n",
    "data.loc[data['writer'].isin((data['writer'].value_counts() \\\n",
    "                                [data['writer'].value_counts() < 5]).index), 'writer'] = 0"
   ]
  },
  {
   "cell_type": "code",
   "execution_count": 14,
   "id": "2e340889",
   "metadata": {},
   "outputs": [],
   "source": [
    "data = pandas.get_dummies(data, columns=['director',\"writer\",\"production_company\"])"
   ]
  },
  {
   "cell_type": "code",
   "execution_count": 15,
   "id": "e1e5dd78",
   "metadata": {},
   "outputs": [],
   "source": [
    "# USA Gross Income a log de eso limpio\n",
    "usa_income_series = pandas.Series.dropna(data['usa_gross_income'])\n",
    "usa_income_series = usa_income_series[usa_income_series.astype('str').str.contains(\"$\", regex = False)]\n",
    "usa_income_series = pandas.to_numeric(pandas.Series(usa_income_series.astype(str).str.extract('(\\d+)')[0]))\n",
    "data[\"usa_gross_income\"] = np.log(usa_income_series)"
   ]
  },
  {
   "cell_type": "code",
   "execution_count": 16,
   "id": "d25b2731",
   "metadata": {},
   "outputs": [],
   "source": [
    "# Worldwide Gross Income a log de eso limpio\n",
    "worldwide_income_series = pandas.Series.dropna(data['worlwide_gross_income'])\n",
    "worldwide_income_series = worldwide_income_series[worldwide_income_series.astype('str').str.contains(\"$\", regex = False)]\n",
    "worldwide_income_series = pandas.to_numeric(pandas.Series(worldwide_income_series.astype(str).str.extract('(\\d+)')[0]))\n",
    "data[\"worlwide_gross_income\"] = np.log(worldwide_income_series)"
   ]
  },
  {
   "cell_type": "code",
   "execution_count": 17,
   "id": "b7484ca9",
   "metadata": {},
   "outputs": [],
   "source": [
    "# Budget a log, pero limpio\n",
    "budget_series = pandas.Series.dropna(data['budget'])\n",
    "budget_series = budget_series[budget_series.astype('str').str.contains(\"$\", regex = False)]\n",
    "budget_series = pandas.to_numeric(pandas.Series(budget_series.astype(str).str.extract('(\\d+)')[0]))\n",
    "data[\"budget\"] = budget_series\n",
    "data[\"budget\"] = data[\"budget\"].fillna(0)"
   ]
  },
  {
   "cell_type": "code",
   "execution_count": 18,
   "id": "080285af",
   "metadata": {},
   "outputs": [],
   "source": [
    "data[\"gross_income\"] = data[\"worlwide_gross_income\"] + data[\"usa_gross_income\"]"
   ]
  },
  {
   "cell_type": "markdown",
   "id": "0e0c41a6",
   "metadata": {},
   "source": [
    "# Fecha a Categóricas"
   ]
  },
  {
   "cell_type": "code",
   "execution_count": 19,
   "id": "3554aa9e",
   "metadata": {},
   "outputs": [],
   "source": [
    "fecha = pandas.to_datetime(data[\"date_published\"])\n",
    "data[\"mes\"] = fecha.dt.month\n",
    "data[\"dia_semana\"] = fecha.dt.weekday\n",
    "\n",
    "data = pandas.get_dummies(data, columns=['mes',\"dia_semana\"])"
   ]
  },
  {
   "cell_type": "markdown",
   "id": "a9cc2b4a",
   "metadata": {},
   "source": [
    "# Categoricas a dummies"
   ]
  },
  {
   "cell_type": "code",
   "execution_count": 20,
   "id": "1c3229be",
   "metadata": {},
   "outputs": [],
   "source": [
    "director_list = [s for s in list(data.columns) if \"director\" in s]\n",
    "writer_list = [s for s in list(data.columns) if \"writer\" in s]\n",
    "prodcomp_list = [s for s in list(data.columns) if \"production\" in s]"
   ]
  },
  {
   "cell_type": "markdown",
   "id": "932fbf85",
   "metadata": {},
   "source": [
    "# Escribiendo a archivo nuevo"
   ]
  },
  {
   "cell_type": "code",
   "execution_count": 21,
   "id": "32a9749c",
   "metadata": {},
   "outputs": [],
   "source": [
    "data.to_csv(\"IMDb_Limpio.csv\", encoding = \"utf-8\")"
   ]
  },
  {
   "cell_type": "code",
   "execution_count": 22,
   "id": "e5f96144",
   "metadata": {},
   "outputs": [
    {
     "data": {
      "text/plain": [
       "4"
      ]
     },
     "execution_count": 22,
     "metadata": {},
     "output_type": "execute_result"
    }
   ],
   "source": [
    "2+2"
   ]
  },
  {
   "cell_type": "code",
   "execution_count": null,
   "id": "07a75ebb",
   "metadata": {},
   "outputs": [],
   "source": []
  }
 ],
 "metadata": {
  "kernelspec": {
   "display_name": "Python 3",
   "language": "python",
   "name": "python3"
  },
  "language_info": {
   "codemirror_mode": {
    "name": "ipython",
    "version": 3
   },
   "file_extension": ".py",
   "mimetype": "text/x-python",
   "name": "python",
   "nbconvert_exporter": "python",
   "pygments_lexer": "ipython3",
   "version": "3.8.8"
  }
 },
 "nbformat": 4,
 "nbformat_minor": 5
}
