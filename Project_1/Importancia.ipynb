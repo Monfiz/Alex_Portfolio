{
 "cells": [
  {
   "cell_type": "markdown",
   "id": "61a48ec5",
   "metadata": {},
   "source": [
    "# Lectura de los datos limpios"
   ]
  },
  {
   "cell_type": "code",
   "execution_count": 192,
   "id": "ba6ad4b4",
   "metadata": {},
   "outputs": [],
   "source": [
    "# Importar librerías\n",
    "import pandas\n",
    "import numpy as np\n",
    "import matplotlib.pyplot as plt\n",
    "from sklearn.preprocessing import PolynomialFeatures"
   ]
  },
  {
   "cell_type": "code",
   "execution_count": 193,
   "id": "8f5b4822",
   "metadata": {},
   "outputs": [],
   "source": [
    "data = pandas.read_csv(\"./IMDb_Limpio.csv\")"
   ]
  },
  {
   "cell_type": "code",
   "execution_count": 194,
   "id": "4fa4fa38",
   "metadata": {},
   "outputs": [
    {
     "name": "stdout",
     "output_type": "stream",
     "text": [
      "<class 'pandas.core.frame.DataFrame'>\n",
      "RangeIndex: 6616 entries, 0 to 6615\n",
      "Columns: 928 entries, Unnamed: 0 to dia_semana_6\n",
      "dtypes: bool(486), float64(8), int64(425), object(9)\n",
      "memory usage: 25.4+ MB\n"
     ]
    }
   ],
   "source": [
    "data.info()"
   ]
  },
  {
   "cell_type": "code",
   "execution_count": 195,
   "id": "11b68f1e",
   "metadata": {},
   "outputs": [
    {
     "data": {
      "text/html": [
       "<div>\n",
       "<style scoped>\n",
       "    .dataframe tbody tr th:only-of-type {\n",
       "        vertical-align: middle;\n",
       "    }\n",
       "\n",
       "    .dataframe tbody tr th {\n",
       "        vertical-align: top;\n",
       "    }\n",
       "\n",
       "    .dataframe thead th {\n",
       "        text-align: right;\n",
       "    }\n",
       "</style>\n",
       "<table border=\"1\" class=\"dataframe\">\n",
       "  <thead>\n",
       "    <tr style=\"text-align: right;\">\n",
       "      <th></th>\n",
       "      <th>Unnamed: 0</th>\n",
       "      <th>imdb_title_id</th>\n",
       "      <th>title</th>\n",
       "      <th>original_title</th>\n",
       "      <th>year</th>\n",
       "      <th>date_published</th>\n",
       "      <th>genre</th>\n",
       "      <th>duration</th>\n",
       "      <th>country</th>\n",
       "      <th>language</th>\n",
       "      <th>...</th>\n",
       "      <th>mes_10</th>\n",
       "      <th>mes_11</th>\n",
       "      <th>mes_12</th>\n",
       "      <th>dia_semana_0</th>\n",
       "      <th>dia_semana_1</th>\n",
       "      <th>dia_semana_2</th>\n",
       "      <th>dia_semana_3</th>\n",
       "      <th>dia_semana_4</th>\n",
       "      <th>dia_semana_5</th>\n",
       "      <th>dia_semana_6</th>\n",
       "    </tr>\n",
       "  </thead>\n",
       "  <tbody>\n",
       "    <tr>\n",
       "      <th>0</th>\n",
       "      <td>506</td>\n",
       "      <td>tt0017136</td>\n",
       "      <td>Metropolis</td>\n",
       "      <td>Metropolis</td>\n",
       "      <td>0</td>\n",
       "      <td>1928-10-01</td>\n",
       "      <td>Drama, Sci-Fi</td>\n",
       "      <td>153</td>\n",
       "      <td>Germany</td>\n",
       "      <td>German</td>\n",
       "      <td>...</td>\n",
       "      <td>1</td>\n",
       "      <td>0</td>\n",
       "      <td>0</td>\n",
       "      <td>1</td>\n",
       "      <td>0</td>\n",
       "      <td>0</td>\n",
       "      <td>0</td>\n",
       "      <td>0</td>\n",
       "      <td>0</td>\n",
       "      <td>0</td>\n",
       "    </tr>\n",
       "    <tr>\n",
       "      <th>1</th>\n",
       "      <td>1048</td>\n",
       "      <td>tt0021749</td>\n",
       "      <td>Luci della città</td>\n",
       "      <td>City Lights</td>\n",
       "      <td>1</td>\n",
       "      <td>1931-04-02</td>\n",
       "      <td>Comedy, Drama, Romance</td>\n",
       "      <td>87</td>\n",
       "      <td>USA</td>\n",
       "      <td>English</td>\n",
       "      <td>...</td>\n",
       "      <td>0</td>\n",
       "      <td>0</td>\n",
       "      <td>0</td>\n",
       "      <td>0</td>\n",
       "      <td>0</td>\n",
       "      <td>0</td>\n",
       "      <td>1</td>\n",
       "      <td>0</td>\n",
       "      <td>0</td>\n",
       "      <td>0</td>\n",
       "    </tr>\n",
       "    <tr>\n",
       "      <th>2</th>\n",
       "      <td>2454</td>\n",
       "      <td>tt0027977</td>\n",
       "      <td>Tempi moderni</td>\n",
       "      <td>Modern Times</td>\n",
       "      <td>2</td>\n",
       "      <td>1937-03-12</td>\n",
       "      <td>Comedy, Drama, Family</td>\n",
       "      <td>87</td>\n",
       "      <td>USA</td>\n",
       "      <td>English</td>\n",
       "      <td>...</td>\n",
       "      <td>0</td>\n",
       "      <td>0</td>\n",
       "      <td>0</td>\n",
       "      <td>0</td>\n",
       "      <td>0</td>\n",
       "      <td>0</td>\n",
       "      <td>0</td>\n",
       "      <td>1</td>\n",
       "      <td>0</td>\n",
       "      <td>0</td>\n",
       "    </tr>\n",
       "    <tr>\n",
       "      <th>3</th>\n",
       "      <td>2795</td>\n",
       "      <td>tt0029453</td>\n",
       "      <td>Il bandito della Casbah</td>\n",
       "      <td>Pépé le Moko</td>\n",
       "      <td>3</td>\n",
       "      <td>1937-10-22</td>\n",
       "      <td>Crime, Drama, Romance</td>\n",
       "      <td>94</td>\n",
       "      <td>France</td>\n",
       "      <td>French, Arabic</td>\n",
       "      <td>...</td>\n",
       "      <td>1</td>\n",
       "      <td>0</td>\n",
       "      <td>0</td>\n",
       "      <td>0</td>\n",
       "      <td>0</td>\n",
       "      <td>0</td>\n",
       "      <td>0</td>\n",
       "      <td>1</td>\n",
       "      <td>0</td>\n",
       "      <td>0</td>\n",
       "    </tr>\n",
       "    <tr>\n",
       "      <th>4</th>\n",
       "      <td>2827</td>\n",
       "      <td>tt0029583</td>\n",
       "      <td>Biancaneve e i sette nani</td>\n",
       "      <td>Snow White and the Seven Dwarfs</td>\n",
       "      <td>3</td>\n",
       "      <td>1938-11-30</td>\n",
       "      <td>Animation, Family, Fantasy</td>\n",
       "      <td>83</td>\n",
       "      <td>USA</td>\n",
       "      <td>English</td>\n",
       "      <td>...</td>\n",
       "      <td>0</td>\n",
       "      <td>1</td>\n",
       "      <td>0</td>\n",
       "      <td>0</td>\n",
       "      <td>0</td>\n",
       "      <td>1</td>\n",
       "      <td>0</td>\n",
       "      <td>0</td>\n",
       "      <td>0</td>\n",
       "      <td>0</td>\n",
       "    </tr>\n",
       "  </tbody>\n",
       "</table>\n",
       "<p>5 rows × 928 columns</p>\n",
       "</div>"
      ],
      "text/plain": [
       "   Unnamed: 0 imdb_title_id                      title  \\\n",
       "0         506     tt0017136                 Metropolis   \n",
       "1        1048     tt0021749           Luci della città   \n",
       "2        2454     tt0027977              Tempi moderni   \n",
       "3        2795     tt0029453    Il bandito della Casbah   \n",
       "4        2827     tt0029583  Biancaneve e i sette nani   \n",
       "\n",
       "                    original_title  year date_published  \\\n",
       "0                       Metropolis     0     1928-10-01   \n",
       "1                      City Lights     1     1931-04-02   \n",
       "2                     Modern Times     2     1937-03-12   \n",
       "3                     Pépé le Moko     3     1937-10-22   \n",
       "4  Snow White and the Seven Dwarfs     3     1938-11-30   \n",
       "\n",
       "                        genre  duration  country        language  ... mes_10  \\\n",
       "0               Drama, Sci-Fi       153  Germany          German  ...      1   \n",
       "1      Comedy, Drama, Romance        87      USA         English  ...      0   \n",
       "2       Comedy, Drama, Family        87      USA         English  ...      0   \n",
       "3       Crime, Drama, Romance        94   France  French, Arabic  ...      1   \n",
       "4  Animation, Family, Fantasy        83      USA         English  ...      0   \n",
       "\n",
       "  mes_11  mes_12  dia_semana_0  dia_semana_1  dia_semana_2  dia_semana_3  \\\n",
       "0      0       0             1             0             0             0   \n",
       "1      0       0             0             0             0             1   \n",
       "2      0       0             0             0             0             0   \n",
       "3      0       0             0             0             0             0   \n",
       "4      1       0             0             0             1             0   \n",
       "\n",
       "   dia_semana_4  dia_semana_5  dia_semana_6  \n",
       "0             0             0             0  \n",
       "1             0             0             0  \n",
       "2             1             0             0  \n",
       "3             1             0             0  \n",
       "4             0             0             0  \n",
       "\n",
       "[5 rows x 928 columns]"
      ]
     },
     "execution_count": 195,
     "metadata": {},
     "output_type": "execute_result"
    }
   ],
   "source": [
    "data.head()"
   ]
  },
  {
   "cell_type": "markdown",
   "id": "88352159",
   "metadata": {},
   "source": [
    "# Variables que se usan para el split de los datos"
   ]
  },
  {
   "cell_type": "code",
   "execution_count": 196,
   "id": "e994a3ab",
   "metadata": {},
   "outputs": [],
   "source": [
    "# Limpieza de Género. Hace dummies para cada género distinto. \n",
    "generos = []\n",
    "for j in data['genre'].dropna().str.rsplit(', '):\n",
    "    for i in j:\n",
    "        if i not in generos:\n",
    "            generos.append(i)\n",
    "\n",
    "generos_names = [\"{}{}\".format(i,\"_Genre\") for i in generos]\n",
    "\n",
    "lenguaje = []\n",
    "for j in data['language'].dropna().str.rsplit(', '):\n",
    "    for i in j:\n",
    "        if i not in lenguaje:\n",
    "            lenguaje.append(i)\n",
    "\n",
    "lenguaje_names = [\"{}{}\".format(i,\"_Language\") for i in lenguaje]\n",
    "\n",
    "pais = []\n",
    "for j in data['country'].dropna().str.rsplit(', '):\n",
    "    for i in j:\n",
    "        if i not in pais:\n",
    "            pais.append(i)\n",
    "\n",
    "pais_names = [\"{}{}\".format(i,\"_Country\") for i in pais]"
   ]
  },
  {
   "cell_type": "code",
   "execution_count": 197,
   "id": "48140da1",
   "metadata": {},
   "outputs": [],
   "source": [
    "director_list = [s for s in list(data.columns) if \"director\" in s]\n",
    "writer_list = [s for s in list(data.columns) if \"writer\" in s]\n",
    "prodcomp_list = [s for s in list(data.columns) if \"production\" in s]\n",
    "mes_list = [s for s in list(data.columns) if \"mes\" in s]\n",
    "dia_semana_list = [s for s in list(data.columns) if \"dia_semana\" in s]"
   ]
  },
  {
   "cell_type": "markdown",
   "id": "59dca929",
   "metadata": {},
   "source": [
    "# Separacion en training, test y validación "
   ]
  },
  {
   "cell_type": "code",
   "execution_count": 198,
   "id": "7e503e66",
   "metadata": {},
   "outputs": [
    {
     "name": "stdout",
     "output_type": "stream",
     "text": [
      "(6616, 29)\n",
      "(6616,)\n"
     ]
    }
   ],
   "source": [
    "# Separa la base de datos, usa la variable \"quality\" como variable objetivo, y\n",
    "# todas las demás variables como variables explicativas\n",
    "X = data[[\"duration\", \"avg_vote\", \"votes\", \\\n",
    "          \"budget\",\"metascore\", \"reviews_from_users\",  \\\n",
    "          \"reviews_from_critics\" ] + mes_list + dia_semana_list].to_numpy()\n",
    "x_imp = data[[\"duration\", \"avg_vote\", \"votes\", \\\n",
    "          \"budget\",\"metascore\", \"reviews_from_users\",  \\\n",
    "          \"reviews_from_critics\"]+ mes_list + dia_semana_list]\n",
    "Y = data[\"gross_income\"].to_numpy()\n",
    "\n",
    "print(X.shape)\n",
    "print(Y.shape)"
   ]
  },
  {
   "cell_type": "code",
   "execution_count": 199,
   "id": "1e42f753",
   "metadata": {},
   "outputs": [
    {
     "name": "stdout",
     "output_type": "stream",
     "text": [
      "(6616, 29)\n",
      "(6616,)\n"
     ]
    }
   ],
   "source": [
    "\n",
    "print(X.shape)\n",
    "print(Y.shape)"
   ]
  },
  {
   "cell_type": "code",
   "execution_count": 200,
   "id": "88e9d3be",
   "metadata": {},
   "outputs": [
    {
     "name": "stdout",
     "output_type": "stream",
     "text": [
      "4762 training samples\n",
      "530 validation samples\n",
      "1324 test samples\n"
     ]
    }
   ],
   "source": [
    "# Separamos en training, validación y testing\n",
    "from sklearn.model_selection import train_test_split\n",
    "\n",
    "x_train, x_test, y_train, y_test = train_test_split(X, Y, test_size=0.2, random_state=42)\n",
    "x_train, x_val, y_train, y_val = train_test_split(x_train, y_train, test_size=0.1, random_state=42)\n",
    "\n",
    "print(f\"{len(x_train)} training samples\")\n",
    "print(f\"{len(x_val)} validation samples\")\n",
    "print(f\"{len(x_test)} test samples\")"
   ]
  },
  {
   "cell_type": "markdown",
   "id": "39d4f23f",
   "metadata": {},
   "source": [
    "# Setup para modelar"
   ]
  },
  {
   "cell_type": "code",
   "execution_count": 201,
   "id": "32c46831",
   "metadata": {},
   "outputs": [],
   "source": [
    "# Metricas\n",
    "from sklearn.metrics import mean_squared_error\n",
    "from sklearn.metrics import mean_absolute_error\n",
    "from sklearn.metrics import mean_absolute_percentage_error\n",
    "from sklearn.metrics import r2_score\n",
    "import time\n",
    "\n",
    "# Modelos\n",
    "from sklearn.neighbors import KNeighborsRegressor # kNN\n",
    "from sklearn.tree import DecisionTreeRegressor # Arbol de Decisiones\n",
    "from sklearn.svm import SVR # Support Vector Regression\n",
    "from sklearn.linear_model import Lasso # Regresion Regularizada con Lasso\n",
    "from sklearn.ensemble import RandomForestRegressor # Random Forest\n",
    "from sklearn.neural_network import MLPRegressor # Multi Layer perceptron\n",
    "from sklearn.gaussian_process import GaussianProcessRegressor\n",
    "from sklearn.svm import LinearSVR # Linear Support Vector Regression\n",
    "\n",
    "# Para poder hacer búsqueda de línea \n",
    "from sklearn.preprocessing import MinMaxScaler\n",
    "from sklearn.model_selection import GridSearchCV"
   ]
  },
  {
   "cell_type": "code",
   "execution_count": 202,
   "id": "9f6b0e18",
   "metadata": {},
   "outputs": [],
   "source": [
    "# Set print options for decimal values\n",
    "np.set_printoptions(formatter={'float': lambda x: \"{0:0.2f}\".format(x)})"
   ]
  },
  {
   "cell_type": "markdown",
   "id": "bcb86208",
   "metadata": {},
   "source": [
    "# Random Forest"
   ]
  },
  {
   "cell_type": "code",
   "execution_count": 203,
   "id": "bf728333",
   "metadata": {},
   "outputs": [
    {
     "name": "stdout",
     "output_type": "stream",
     "text": [
      "Training time: 8.106972694396973s\n",
      "Best score: 0.722\n",
      "Best params: {'n_estimators': 300}\n"
     ]
    }
   ],
   "source": [
    "# Grid search over Random Forest\n",
    "parameters = {'n_estimators': [10,20,30, 300]}\n",
    "\n",
    "gs_model = GridSearchCV(RandomForestRegressor(max_features='sqrt'), parameters, n_jobs=-1, scoring=\"r2\")\n",
    "start = time.time()\n",
    "gs_model.fit(x_train, y_train)\n",
    "stop = time.time()\n",
    "\n",
    "print(f\"Training time: {stop - start}s\")\n",
    "print(f\"Best score: {gs_model.best_score_:.3f}\")\n",
    "print(f\"Best params: {gs_model.best_params_}\")"
   ]
  },
  {
   "cell_type": "code",
   "execution_count": 204,
   "id": "e92474e5",
   "metadata": {},
   "outputs": [
    {
     "name": "stdout",
     "output_type": "stream",
     "text": [
      "MSE on the training set: 1.000\n",
      "MSE on the validation set: 8.626\n",
      "MSE on the test set: 8.060\n",
      "\n",
      "MAE on the training set: 0.719\n",
      "MAE on the validation set: 2.081\n",
      "MAE on the test set: 2.022\n",
      "\n",
      "MAPE on the training set: 0.025\n",
      "MAPE on the validation set: 0.069\n",
      "MAPE on the test set: 0.068\n",
      "\n",
      "R^2 on the training set: 0.954\n",
      "R^2 on the validation set: 0.518\n",
      "R^2 on the test set: 0.576\n"
     ]
    }
   ],
   "source": [
    "# Predict on validation data, and print score\n",
    "y_val_hat = gs_model.best_estimator_.predict(x_val)\n",
    "\n",
    "print(f\"MSE on the training set: {mean_squared_error(gs_model.best_estimator_.predict(x_train), y_train):.3f}\")\n",
    "print(f\"MSE on the validation set: {mean_squared_error(gs_model.best_estimator_.predict(x_val), y_val):.3f}\")\n",
    "print(f\"MSE on the test set: {mean_squared_error(gs_model.best_estimator_.predict(x_test), y_test):.3f}\")\n",
    "print()\n",
    "print(f\"MAE on the training set: {mean_absolute_error(gs_model.best_estimator_.predict(x_train), y_train):.3f}\")\n",
    "print(f\"MAE on the validation set: {mean_absolute_error(gs_model.best_estimator_.predict(x_val), y_val):.3f}\")\n",
    "print(f\"MAE on the test set: {mean_absolute_error(gs_model.best_estimator_.predict(x_test), y_test):.3f}\")\n",
    "print()\n",
    "print(f\"MAPE on the training set: {mean_absolute_percentage_error(gs_model.best_estimator_.predict(x_train), y_train):.3f}\")\n",
    "print(f\"MAPE on the validation set: {mean_absolute_percentage_error(gs_model.best_estimator_.predict(x_val), y_val):.3f}\")\n",
    "print(f\"MAPE on the test set: {mean_absolute_percentage_error(gs_model.best_estimator_.predict(x_test), y_test):.3f}\")\n",
    "print()\n",
    "print(f\"R^2 on the training set: {r2_score(gs_model.best_estimator_.predict(x_train), y_train):.3f}\")\n",
    "print(f\"R^2 on the validation set: {r2_score(gs_model.best_estimator_.predict(x_val), y_val):.3f}\")\n",
    "print(f\"R^2 on the test set: {r2_score(gs_model.best_estimator_.predict(x_test), y_test):.3f}\")"
   ]
  },
  {
   "cell_type": "markdown",
   "id": "1df3f43a",
   "metadata": {},
   "source": [
    "# Importancia"
   ]
  },
  {
   "cell_type": "code",
   "execution_count": 205,
   "id": "e63969b4",
   "metadata": {},
   "outputs": [
    {
     "name": "stdout",
     "output_type": "stream",
     "text": [
      "(6616, 29) (6616,)\n"
     ]
    }
   ],
   "source": [
    "# test classification dataset\n",
    "from sklearn.datasets import make_classification\n",
    "# summarize the dataset\n",
    "print(X.shape, Y.shape)"
   ]
  },
  {
   "cell_type": "code",
   "execution_count": 206,
   "id": "850a7cf9",
   "metadata": {},
   "outputs": [
    {
     "name": "stdout",
     "output_type": "stream",
     "text": [
      "Feature: 0, Score: 0.04682\n",
      "Feature: 1, Score: 0.04364\n",
      "Feature: 2, Score: 0.26063\n",
      "Feature: 3, Score: 0.25294\n",
      "Feature: 4, Score: 0.04034\n",
      "Feature: 5, Score: 0.19029\n",
      "Feature: 6, Score: 0.08932\n",
      "Feature: 7, Score: 0.00023\n",
      "Feature: 8, Score: 0.00000\n",
      "Feature: 9, Score: 0.00000\n",
      "Feature: 10, Score: 0.00333\n",
      "Feature: 11, Score: 0.00324\n",
      "Feature: 12, Score: 0.00391\n",
      "Feature: 13, Score: 0.00395\n",
      "Feature: 14, Score: 0.00428\n",
      "Feature: 15, Score: 0.00388\n",
      "Feature: 16, Score: 0.00330\n",
      "Feature: 17, Score: 0.00362\n",
      "Feature: 18, Score: 0.00432\n",
      "Feature: 19, Score: 0.00450\n",
      "Feature: 20, Score: 0.00367\n",
      "Feature: 21, Score: 0.00382\n",
      "Feature: 22, Score: 0.00132\n",
      "Feature: 23, Score: 0.00167\n",
      "Feature: 24, Score: 0.00455\n",
      "Feature: 25, Score: 0.00560\n",
      "Feature: 26, Score: 0.00984\n",
      "Feature: 27, Score: 0.00406\n",
      "Feature: 28, Score: 0.00294\n"
     ]
    }
   ],
   "source": [
    "# random forest for feature importance on a classification problem\n",
    "from sklearn.datasets import make_classification\n",
    "from matplotlib import pyplot\n",
    "\n",
    "# get importance\n",
    "importance = gs_model.best_estimator_.feature_importances_\n",
    "# summarize feature importance\n",
    "for i,v in enumerate(importance):\n",
    "\tprint('Feature: %0d, Score: %.5f' % (i,v))\n"
   ]
  },
  {
   "cell_type": "code",
   "execution_count": 211,
   "id": "945761d0",
   "metadata": {},
   "outputs": [
    {
     "data": {
      "text/plain": [
       "<BarContainer object of 29 artists>"
      ]
     },
     "execution_count": 211,
     "metadata": {},
     "output_type": "execute_result"
    },
    {
     "data": {
      "image/png": "[encoded data removed]",
      "text/plain": [
       "<Figure size 720x720 with 1 Axes>"
      ]
     },
     "metadata": {
      "needs_background": "light"
     },
     "output_type": "display_data"
    }
   ],
   "source": [
    "plt.rcParams['figure.figsize'] = [10, 10]\n",
    "pyplot.barh(aux.feature, aux.importance)"
   ]
  },
  {
   "cell_type": "code",
   "execution_count": null,
   "id": "055662e8",
   "metadata": {},
   "outputs": [],
   "source": []
  }
 ],
 "metadata": {
  "kernelspec": {
   "display_name": "Python 3",
   "language": "python",
   "name": "python3"
  },
  "language_info": {
   "codemirror_mode": {
    "name": "ipython",
    "version": 3
   },
   "file_extension": ".py",
   "mimetype": "text/x-python",
   "name": "python",
   "nbconvert_exporter": "python",
   "pygments_lexer": "ipython3",
   "version": "3.8.8"
  }
 },
 "nbformat": 4,
 "nbformat_minor": 5
}
